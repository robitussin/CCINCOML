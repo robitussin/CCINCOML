{
  "cells": [
    {
      "cell_type": "markdown",
      "metadata": {
        "id": "qMcqAHbTBq22"
      },
      "source": [
        "# Introduction to Python Programming Language: Data Structures"
      ]
    },
    {
      "cell_type": "markdown",
      "metadata": {
        "id": "cglJ7FBQJH4-"
      },
      "source": [
        "## What are Data Structures?\n",
        "Data structures are containers that organize and group data types together in different ways.\n",
        "\n",
        "In this lesson, you'll learn about:\n",
        "\n",
        "* Lists\n",
        "* Tuples\n",
        "* Sets\n",
        "* Dictionaries\n"
      ]
    },
    {
      "cell_type": "markdown",
      "metadata": {
        "id": "zVflXaAwUoJr"
      },
      "source": [
        "## Lists\n",
        "\n",
        "A list is one of the most common and basic data structures in Python.\n",
        "\n",
        "We can create a list with square brackets. Lists can contain any mix and match of the data types you have seen so far."
      ]
    },
    {
      "cell_type": "code",
      "source": [
        "list_of_random_things = [1, 3.4, 'a string', True]"
      ],
      "metadata": {
        "id": "0ro9jmr-hXzk"
      },
      "execution_count": 273,
      "outputs": []
    },
    {
      "cell_type": "markdown",
      "source": [
        "This is a list of 4 elements. All ordered containers (like lists) are indexed in python using a starting index of 0. Therefore, to pull the first value from the above list, we can write:"
      ],
      "metadata": {
        "id": "P-Rjh_EahlcY"
      }
    },
    {
      "cell_type": "code",
      "source": [
        "list_of_random_things[0]"
      ],
      "metadata": {
        "colab": {
          "base_uri": "https://localhost:8080/"
        },
        "id": "cv9zURL0hrlo",
        "outputId": "2fc403ec-db3f-44d3-f82e-304401f66d16"
      },
      "execution_count": 274,
      "outputs": [
        {
          "output_type": "execute_result",
          "data": {
            "text/plain": [
              "1"
            ]
          },
          "metadata": {},
          "execution_count": 274
        }
      ]
    },
    {
      "cell_type": "markdown",
      "source": [
        "You can index from the end of a list by using negative values, where -1 is the last element, -2 is the second to last element and so on."
      ],
      "metadata": {
        "id": "ie02sf_Bory2"
      }
    },
    {
      "cell_type": "code",
      "source": [
        "list_of_random_things[-1]"
      ],
      "metadata": {
        "colab": {
          "base_uri": "https://localhost:8080/"
        },
        "id": "yXefhNloosJh",
        "outputId": "f76d1600-4754-4afb-95b8-036d7e4a5642"
      },
      "execution_count": 275,
      "outputs": [
        {
          "output_type": "execute_result",
          "data": {
            "text/plain": [
              "True"
            ]
          },
          "metadata": {},
          "execution_count": 275
        }
      ]
    },
    {
      "cell_type": "code",
      "source": [
        "list_of_random_things[-2]"
      ],
      "metadata": {
        "colab": {
          "base_uri": "https://localhost:8080/",
          "height": 224
        },
        "id": "-7SaWvK2ozHN",
        "outputId": "0a48851a-294f-4e42-ee12-fefae50eb2e0"
      },
      "execution_count": 276,
      "outputs": [
        {
          "output_type": "execute_result",
          "data": {
            "text/plain": [
              "'a string'"
            ],
            "application/vnd.google.colaboratory.intrinsic+json": {
              "type": "string"
            }
          },
          "metadata": {},
          "execution_count": 276
        }
      ]
    },
    {
      "cell_type": "markdown",
      "source": [
        "### Slice and Dice with Lists\n",
        "\n",
        "We we can pull more than one value from a list at a time by using slicing. When using slicing, it is important to remember that the lower index is inclusive and the upper index is exclusive."
      ],
      "metadata": {
        "id": "MyuJm_86pKml"
      }
    },
    {
      "cell_type": "code",
      "source": [
        "list_of_random_things = [1, 3.4, 'a string', True]\n",
        "\n",
        "list_of_random_things[1:2]"
      ],
      "metadata": {
        "colab": {
          "base_uri": "https://localhost:8080/"
        },
        "id": "oQtEZ_lsqKep",
        "outputId": "2532f6ea-d79e-4376-d3cf-fc1df608e8c2"
      },
      "execution_count": 277,
      "outputs": [
        {
          "output_type": "execute_result",
          "data": {
            "text/plain": [
              "[3.4]"
            ]
          },
          "metadata": {},
          "execution_count": 277
        }
      ]
    },
    {
      "cell_type": "markdown",
      "source": [
        "will only return 3.4 in a list. Notice this is still different than just indexing a single element, because you get a list back with this indexing. The colon tells us to go from the starting value on the left of the colon up to, but not including, the element on the right.\n",
        "\n",
        "If you know that you want to start at the beginning, of the list you can also leave out this value."
      ],
      "metadata": {
        "id": "6cMYntvDqSL6"
      }
    },
    {
      "cell_type": "code",
      "source": [
        "list_of_random_things[:2]"
      ],
      "metadata": {
        "colab": {
          "base_uri": "https://localhost:8080/"
        },
        "id": "hoYaORtMqT3K",
        "outputId": "8734d940-663d-494b-caad-d9b092c15fca"
      },
      "execution_count": 278,
      "outputs": [
        {
          "output_type": "execute_result",
          "data": {
            "text/plain": [
              "[1, 3.4]"
            ]
          },
          "metadata": {},
          "execution_count": 278
        }
      ]
    },
    {
      "cell_type": "markdown",
      "source": [
        "or to return all of the elements to the end of the list, we can leave off a final element."
      ],
      "metadata": {
        "id": "a83Tgi0QqWMC"
      }
    },
    {
      "cell_type": "code",
      "source": [
        "[3.4, 'a string', True]"
      ],
      "metadata": {
        "colab": {
          "base_uri": "https://localhost:8080/"
        },
        "id": "bsYoAmxmqXe9",
        "outputId": "eca2e70a-cc5b-4225-a8a4-d7c66c1c4fe5"
      },
      "execution_count": 279,
      "outputs": [
        {
          "output_type": "execute_result",
          "data": {
            "text/plain": [
              "[3.4, 'a string', True]"
            ]
          },
          "metadata": {},
          "execution_count": 279
        }
      ]
    },
    {
      "cell_type": "markdown",
      "source": [
        "This type of indexing works exactly the same on strings, where the returned value will be a string."
      ],
      "metadata": {
        "id": "cnoWmRL5q_Iy"
      }
    },
    {
      "cell_type": "markdown",
      "source": [
        "### Are you `in` OR `not in`?\n",
        "You saw that we can also use `in` and `not in` to return a bool of whether an element exists within our list, or if one string is a substring of another."
      ],
      "metadata": {
        "id": "8GYa65hnqmvm"
      }
    },
    {
      "cell_type": "code",
      "source": [
        "'this' in 'this is a string'"
      ],
      "metadata": {
        "colab": {
          "base_uri": "https://localhost:8080/"
        },
        "id": "jWn8jMYuqk7S",
        "outputId": "41610210-9c07-4d0a-edf5-c0564ea7b7ca"
      },
      "execution_count": 280,
      "outputs": [
        {
          "output_type": "execute_result",
          "data": {
            "text/plain": [
              "True"
            ]
          },
          "metadata": {},
          "execution_count": 280
        }
      ]
    },
    {
      "cell_type": "code",
      "source": [
        "'isa' in 'this is a string'"
      ],
      "metadata": {
        "colab": {
          "base_uri": "https://localhost:8080/"
        },
        "id": "o7qGLJn4qynW",
        "outputId": "8290311c-db06-4b14-de6d-0fa7e5d9afbf"
      },
      "execution_count": 281,
      "outputs": [
        {
          "output_type": "execute_result",
          "data": {
            "text/plain": [
              "False"
            ]
          },
          "metadata": {},
          "execution_count": 281
        }
      ]
    },
    {
      "cell_type": "code",
      "source": [
        "5 not in [1, 2, 3, 4, 6]"
      ],
      "metadata": {
        "colab": {
          "base_uri": "https://localhost:8080/"
        },
        "id": "MkGOjyJHq3TK",
        "outputId": "24203fa4-dd29-4ffa-992e-1e5a05b4985b"
      },
      "execution_count": 282,
      "outputs": [
        {
          "output_type": "execute_result",
          "data": {
            "text/plain": [
              "True"
            ]
          },
          "metadata": {},
          "execution_count": 282
        }
      ]
    },
    {
      "cell_type": "code",
      "source": [
        "5 in [1, 2, 3, 4, 6]"
      ],
      "metadata": {
        "colab": {
          "base_uri": "https://localhost:8080/"
        },
        "id": "55qdmCOOq4fs",
        "outputId": "4a68c420-8d4c-49f4-bf11-9d2df38882c7"
      },
      "execution_count": 283,
      "outputs": [
        {
          "output_type": "execute_result",
          "data": {
            "text/plain": [
              "False"
            ]
          },
          "metadata": {},
          "execution_count": 283
        }
      ]
    },
    {
      "cell_type": "markdown",
      "source": [
        "### Mutability\n",
        "\n",
        "Mutability is about whether or not we can change an object once it has been created. If an object (like a list or string) can be changed (like a list can), then it is called mutable. However, if an object cannot be changed with creating a completely new object (like strings), then the object is considered immutable."
      ],
      "metadata": {
        "id": "NlgoB0da8ETS"
      }
    },
    {
      "cell_type": "code",
      "source": [
        "my_lst = [1, 2, 3, 4, 5]\n",
        "my_lst[0] = 'one'\n",
        "print(my_lst)"
      ],
      "metadata": {
        "colab": {
          "base_uri": "https://localhost:8080/"
        },
        "id": "4jZiMisz8Gcm",
        "outputId": "bc4c8402-eaa1-4ad5-9474-d0dd211d243c"
      },
      "execution_count": 284,
      "outputs": [
        {
          "output_type": "stream",
          "name": "stdout",
          "text": [
            "['one', 2, 3, 4, 5]\n"
          ]
        }
      ]
    },
    {
      "cell_type": "markdown",
      "source": [
        "As shown above, you are able to replace 1 with 'one' in the above list. This is because lists are mutable.\n",
        "\n",
        "However, the following does not work:"
      ],
      "metadata": {
        "id": "WwbF2BJr8Yw8"
      }
    },
    {
      "cell_type": "code",
      "source": [
        "greeting = \"Hello there\"\n",
        "# greeting[0] = 'M'"
      ],
      "metadata": {
        "id": "jLFe7jQe8amn"
      },
      "execution_count": 285,
      "outputs": []
    },
    {
      "cell_type": "markdown",
      "source": [
        "This is because strings are immutable. This means to change this string, you will need to create a completely new string."
      ],
      "metadata": {
        "id": "OR_a2yiV8i-R"
      }
    },
    {
      "cell_type": "markdown",
      "source": [
        "### List Methods\n",
        "\n",
        "`len()` returns how many elements are in a list.\n"
      ],
      "metadata": {
        "id": "OtuduSRY8mqn"
      }
    },
    {
      "cell_type": "code",
      "source": [
        "fruits = [\"apple\", \"eggplant\", \"banana\", \"mango\", \"dragonfruit\", \"cherry\"]\n",
        "\n",
        "print(len(fruits))"
      ],
      "metadata": {
        "colab": {
          "base_uri": "https://localhost:8080/"
        },
        "id": "4DbWWj6E_KeH",
        "outputId": "66c8edae-fbb8-4ef5-dd19-f2ec0d304a0a"
      },
      "execution_count": 286,
      "outputs": [
        {
          "output_type": "stream",
          "name": "stdout",
          "text": [
            "6\n"
          ]
        }
      ]
    },
    {
      "cell_type": "markdown",
      "source": [
        "`max()` returns the greatest element of the list. How the greatest element is determined depends on what type objects are in the list. The maximum element in a list of numbers is the largest number. The maximum elements in a list of strings is element that would occur last if the list were sorted alphabetically. This works because the the max function is defined in terms of the greater than comparison operator. The max function is undefined for lists that contain elements from different, incomparable types.\n"
      ],
      "metadata": {
        "id": "y_aXltQt_LE-"
      }
    },
    {
      "cell_type": "code",
      "source": [
        "print(max(fruits))"
      ],
      "metadata": {
        "colab": {
          "base_uri": "https://localhost:8080/"
        },
        "id": "fcpnA9OR_Mu0",
        "outputId": "b137b796-8bff-44e7-cd7f-136af39062c4"
      },
      "execution_count": 287,
      "outputs": [
        {
          "output_type": "stream",
          "name": "stdout",
          "text": [
            "mango\n"
          ]
        }
      ]
    },
    {
      "cell_type": "markdown",
      "source": [
        "`min()` returns the smallest element in a list. min is the opposite of max, which returns the largest element in a list.\n"
      ],
      "metadata": {
        "id": "0QKMsa_L_NID"
      }
    },
    {
      "cell_type": "code",
      "source": [
        "print(min(fruits))"
      ],
      "metadata": {
        "colab": {
          "base_uri": "https://localhost:8080/"
        },
        "id": "xJhdzlbg_R8P",
        "outputId": "6ad67683-778b-4f27-8575-63f6e4dc25ef"
      },
      "execution_count": 288,
      "outputs": [
        {
          "output_type": "stream",
          "name": "stdout",
          "text": [
            "apple\n"
          ]
        }
      ]
    },
    {
      "cell_type": "markdown",
      "source": [
        "`sorted()` returns a copy of a list in order from smallest to largest, leaving the list unchanged."
      ],
      "metadata": {
        "id": "6XeZpnrw_Qrq"
      }
    },
    {
      "cell_type": "code",
      "source": [
        "print(sorted(fruits))"
      ],
      "metadata": {
        "colab": {
          "base_uri": "https://localhost:8080/"
        },
        "id": "kp-BCygc_P--",
        "outputId": "c4eee05b-a564-4907-ec49-731d44356a82"
      },
      "execution_count": 289,
      "outputs": [
        {
          "output_type": "stream",
          "name": "stdout",
          "text": [
            "['apple', 'banana', 'cherry', 'dragonfruit', 'eggplant', 'mango']\n"
          ]
        }
      ]
    },
    {
      "cell_type": "markdown",
      "source": [
        "`join()` is a string method that takes a list of strings as an argument, and returns a string consisting of the list elements joined by a separator string."
      ],
      "metadata": {
        "id": "pjV4FMmYZ8m8"
      }
    },
    {
      "cell_type": "code",
      "source": [
        "name = \"-\".join([\"E\", \"mail\"])\n",
        "print(name)"
      ],
      "metadata": {
        "colab": {
          "base_uri": "https://localhost:8080/"
        },
        "id": "rLZyLI5JZ7-C",
        "outputId": "327cb8dc-5317-4231-de84-69a12df4af50"
      },
      "execution_count": 290,
      "outputs": [
        {
          "output_type": "stream",
          "name": "stdout",
          "text": [
            "E-mail\n"
          ]
        }
      ]
    },
    {
      "cell_type": "markdown",
      "source": [
        "\n",
        "`append()` adds an element to the end of a list."
      ],
      "metadata": {
        "id": "_mB1Q6guaR5G"
      }
    },
    {
      "cell_type": "code",
      "source": [
        "letters = ['a', 'b', 'c', 'd']\n",
        "letters.append('e')\n",
        "print(letters)"
      ],
      "metadata": {
        "colab": {
          "base_uri": "https://localhost:8080/"
        },
        "id": "a4dEjhbfaROo",
        "outputId": "72b44554-21df-4859-d894-bbc94eecf607"
      },
      "execution_count": 291,
      "outputs": [
        {
          "output_type": "stream",
          "name": "stdout",
          "text": [
            "['a', 'b', 'c', 'd', 'e']\n"
          ]
        }
      ]
    },
    {
      "cell_type": "markdown",
      "source": [
        "## Tuples\n",
        "A tuple is another useful container. It's a data type for immutable ordered sequences of elements. They are often used to store related pieces of information. Consider this example involving latitude and longitude:"
      ],
      "metadata": {
        "id": "g0I7WMW_agOd"
      }
    },
    {
      "cell_type": "code",
      "source": [
        "location = (13.4125, 103.866667)\n",
        "print(\"Angkor wat is at latitude: \", location[0])\n",
        "print(\"Angkor wat is at longtitude: :\", location[1])"
      ],
      "metadata": {
        "colab": {
          "base_uri": "https://localhost:8080/"
        },
        "id": "xJU2dZRKakpQ",
        "outputId": "fe30957c-7d07-486b-d5f4-6d56bfe95def"
      },
      "execution_count": 292,
      "outputs": [
        {
          "output_type": "stream",
          "name": "stdout",
          "text": [
            "Angkor wat is at latitude:  13.4125\n",
            "Angkor wat is at longtitude: : 103.866667\n"
          ]
        }
      ]
    },
    {
      "cell_type": "markdown",
      "source": [
        "Tuples are similar to lists in that they store an ordered collection of objects which can be accessed by their indices.\n",
        "\n",
        "Unlike lists, however, tuples are immutable - you can't add and remove items from tuples, or sort them in place.\n",
        "\n",
        "Tuples can also be used to assign multiple variables in a compact way."
      ],
      "metadata": {
        "id": "GoNF5LPna63E"
      }
    },
    {
      "cell_type": "code",
      "source": [
        "dimensions = 52, 40, 100\n",
        "length, width, height = dimensions\n",
        "print(\"The dimensions are \" + str(length) + \" x \" + str(width) + \" x \" + str(height))"
      ],
      "metadata": {
        "colab": {
          "base_uri": "https://localhost:8080/"
        },
        "id": "tX2mPeW8a7QM",
        "outputId": "83fe8b80-74ed-46da-9f2a-55b92e602eb0"
      },
      "execution_count": 293,
      "outputs": [
        {
          "output_type": "stream",
          "name": "stdout",
          "text": [
            "The dimensions are 52 x 40 x 100\n"
          ]
        }
      ]
    },
    {
      "cell_type": "markdown",
      "source": [
        "The parentheses are optional when defining tuples, and programmers frequently omit them if parentheses don't clarify the code.\n",
        "\n",
        "n the second line, three variables are assigned from the content of the tuple dimensions. This is called tuple unpacking. You can use tuple unpacking to assign the information from a tuple into multiple variables without having to access them one by one and make multiple assignment statements.\n",
        "\n",
        "If we won't need to use dimensions directly, we could shorten those two lines of code into a single line that assigns three variables in one go!\n",
        "\n"
      ],
      "metadata": {
        "id": "hSKR8nXRbI7y"
      }
    },
    {
      "cell_type": "code",
      "source": [
        "length, width, height = 52, 40, 100\n",
        "print(\"The dimensions are \" + str(length) + \" x \" + str(width) + \" x \" + str(height))"
      ],
      "metadata": {
        "colab": {
          "base_uri": "https://localhost:8080/"
        },
        "id": "qukxgS5_cSzo",
        "outputId": "7f115ced-f23c-4aca-b391-c4d17cee4074"
      },
      "execution_count": 294,
      "outputs": [
        {
          "output_type": "stream",
          "name": "stdout",
          "text": [
            "The dimensions are 52 x 40 x 100\n"
          ]
        }
      ]
    },
    {
      "cell_type": "markdown",
      "source": [
        "## Sets\n",
        "\n",
        "A set is a data type for mutable unordered collections of unique elements. One application of a set is to quickly remove duplicates from a list."
      ],
      "metadata": {
        "id": "3YT1cbZEdNhR"
      }
    },
    {
      "cell_type": "code",
      "source": [
        "numbers = [1, 2, 6, 3, 1, 1, 6]\n",
        "unique_nums = set(numbers)\n",
        "print(unique_nums)"
      ],
      "metadata": {
        "colab": {
          "base_uri": "https://localhost:8080/"
        },
        "id": "6ZUbSphmdUBl",
        "outputId": "c89eda80-30f6-4ea8-a177-21588a8f891f"
      },
      "execution_count": 295,
      "outputs": [
        {
          "output_type": "stream",
          "name": "stdout",
          "text": [
            "{1, 2, 3, 6}\n"
          ]
        }
      ]
    },
    {
      "cell_type": "markdown",
      "source": [
        "Sets support the in operator the same as lists do. You can add elements to sets using the add method, and remove elements using the pop method, similar to lists. Although, when you pop an element from a set, a random element is removed. Remember that sets, unlike lists, are unordered so there is no \"last element\"."
      ],
      "metadata": {
        "id": "xR80kOg-dWt4"
      }
    },
    {
      "cell_type": "code",
      "source": [
        "fruit = {\"apple\", \"banana\", \"orange\", \"grapefruit\"}  # define a set\n",
        "\n",
        "print(\"watermelon\" in fruit)  # check for element"
      ],
      "metadata": {
        "colab": {
          "base_uri": "https://localhost:8080/"
        },
        "id": "GLJZLV0OdYnh",
        "outputId": "7e79c524-5030-42f4-e67a-01dce95da78f"
      },
      "execution_count": 296,
      "outputs": [
        {
          "output_type": "stream",
          "name": "stdout",
          "text": [
            "False\n"
          ]
        }
      ]
    },
    {
      "cell_type": "code",
      "source": [
        "fruit.add(\"watermelon\")  # add an element\n",
        "print(fruit)"
      ],
      "metadata": {
        "colab": {
          "base_uri": "https://localhost:8080/"
        },
        "id": "BTSIfgJvdni8",
        "outputId": "81200b66-e672-4b06-9c9c-bf763d6a3462"
      },
      "execution_count": 297,
      "outputs": [
        {
          "output_type": "stream",
          "name": "stdout",
          "text": [
            "{'banana', 'watermelon', 'grapefruit', 'apple', 'orange'}\n"
          ]
        }
      ]
    },
    {
      "cell_type": "code",
      "source": [
        "print(fruit.pop())  # remove a random element\n",
        "print(fruit)"
      ],
      "metadata": {
        "colab": {
          "base_uri": "https://localhost:8080/"
        },
        "id": "RT75OB48dotD",
        "outputId": "4054dc62-2fd2-40c8-aa97-77081ed1a29e"
      },
      "execution_count": 298,
      "outputs": [
        {
          "output_type": "stream",
          "name": "stdout",
          "text": [
            "banana\n",
            "{'watermelon', 'grapefruit', 'apple', 'orange'}\n"
          ]
        }
      ]
    },
    {
      "cell_type": "markdown",
      "source": [
        "## Dictionaries\n",
        "\n",
        "A dictionary is a mutable data type that stores mappings of unique keys to values. Here's a dictionary that stores elements and their atomic numbers."
      ],
      "metadata": {
        "id": "VCCHr_R9d7-i"
      }
    },
    {
      "cell_type": "code",
      "source": [
        "elements = {\"hydrogen\": 1, \"helium\": 2, \"carbon\": 6}"
      ],
      "metadata": {
        "id": "7YCnXEwkeBxV"
      },
      "execution_count": 299,
      "outputs": []
    },
    {
      "cell_type": "markdown",
      "source": [
        "Dictionaries can have keys of any immutable type, like integers or tuples, not just strings. It's not even necessary for every key to have the same type! We can look up values or insert new values in the dictionary using square brackets that enclose the key."
      ],
      "metadata": {
        "id": "swWyHGkxeENw"
      }
    },
    {
      "cell_type": "code",
      "source": [
        "print(elements[\"helium\"])  # print the value mapped to \"helium\"\n",
        "elements[\"lithium\"] = 3  # insert \"lithium\" with a value of 3 into the dictionary"
      ],
      "metadata": {
        "colab": {
          "base_uri": "https://localhost:8080/"
        },
        "id": "ytclvBRjeFxp",
        "outputId": "823fa024-5175-4365-a17b-d4972f34a3dc"
      },
      "execution_count": 300,
      "outputs": [
        {
          "output_type": "stream",
          "name": "stdout",
          "text": [
            "2\n"
          ]
        }
      ]
    },
    {
      "cell_type": "markdown",
      "source": [
        "We can check whether a value is in a dictionary the same way we check whether a value is in a list or set with the in keyword. Dicts have a related method that's also useful, get. get looks up values in a dictionary, but unlike square brackets, get returns None (or a default value of your choice) if the key isn't found."
      ],
      "metadata": {
        "id": "ue4jb5V6eKUU"
      }
    },
    {
      "cell_type": "code",
      "source": [
        "print(\"carbon\" in elements)\n",
        "print(elements.get(\"dilithium\"))"
      ],
      "metadata": {
        "colab": {
          "base_uri": "https://localhost:8080/"
        },
        "id": "Y05gv5K0eMCN",
        "outputId": "e74c4789-a58a-464a-edda-9a93316f4abe"
      },
      "execution_count": 301,
      "outputs": [
        {
          "output_type": "stream",
          "name": "stdout",
          "text": [
            "True\n",
            "None\n"
          ]
        }
      ]
    },
    {
      "cell_type": "markdown",
      "source": [
        "Carbon is in the dictionary, so True is printed. Dilithium isn’t in our dictionary so None is returned by get and then printed. If you expect lookups to sometimes fail, get might be a better tool than normal square bracket lookups because errors can crash your program."
      ],
      "metadata": {
        "id": "kt_nyKCReQRh"
      }
    },
    {
      "cell_type": "markdown",
      "source": [
        "### Identity Operators\n",
        "\n",
        "| Keyword  |  Operator |\n",
        "|---|---|\n",
        "| is | evaluates if both sides have the same identity |   \n",
        "| is not | evaluates if both sides have different identities |   \n",
        "\n",
        "You can check if a key returned None with the `is` operator. You can check for the opposite using `is not`."
      ],
      "metadata": {
        "id": "4lbqqsbbeTTK"
      }
    },
    {
      "cell_type": "code",
      "source": [
        "n = elements.get(\"dilithium\")\n",
        "print(n is None)"
      ],
      "metadata": {
        "colab": {
          "base_uri": "https://localhost:8080/"
        },
        "id": "uwqeyru1ey06",
        "outputId": "b8f0d8d1-d5e8-4b31-df16-004275824f5d"
      },
      "execution_count": 302,
      "outputs": [
        {
          "output_type": "stream",
          "name": "stdout",
          "text": [
            "True\n"
          ]
        }
      ]
    },
    {
      "cell_type": "code",
      "source": [
        "print(n is not None)"
      ],
      "metadata": {
        "colab": {
          "base_uri": "https://localhost:8080/"
        },
        "id": "WvmthhmZe-0M",
        "outputId": "3c6299f9-6b9b-41d3-a2e7-f6c55aeee907"
      },
      "execution_count": 303,
      "outputs": [
        {
          "output_type": "stream",
          "name": "stdout",
          "text": [
            "False\n"
          ]
        }
      ]
    }
  ],
  "metadata": {
    "celltoolbar": "Slideshow",
    "colab": {
      "provenance": []
    },
    "kernelspec": {
      "display_name": "Python 3",
      "language": "python",
      "name": "python3"
    },
    "language_info": {
      "codemirror_mode": {
        "name": "ipython",
        "version": 3
      },
      "file_extension": ".py",
      "mimetype": "text/x-python",
      "name": "python",
      "nbconvert_exporter": "python",
      "pygments_lexer": "ipython3",
      "version": "3.11.5"
    }
  },
  "nbformat": 4,
  "nbformat_minor": 0
}