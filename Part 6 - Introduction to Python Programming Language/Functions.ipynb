{
  "cells": [
    {
      "cell_type": "markdown",
      "metadata": {
        "id": "view-in-github",
        "colab_type": "text"
      },
      "source": [
        "<a href=\"https://colab.research.google.com/github/robitussin/CCINCOML/blob/main/Part%206%20-%20Introduction%20to%20Python%20Programming%20Language/Functions.ipynb\" target=\"_parent\"><img src=\"https://colab.research.google.com/assets/colab-badge.svg\" alt=\"Open In Colab\"/></a>"
      ]
    },
    {
      "cell_type": "markdown",
      "metadata": {
        "id": "qMcqAHbTBq22"
      },
      "source": [
        "# Introduction to Python Programming Language: Functions"
      ]
    },
    {
      "cell_type": "markdown",
      "metadata": {
        "id": "cglJ7FBQJH4-"
      },
      "source": [
        "## What are Functions?\n",
        "\n",
        "You can think about functions as a way to take what you have already learned how to do, and put it in a holder that allows you to use it over and over again in an easy to use container.\n",
        "\n",
        "Welcome to this lesson on Functions! You'll learn about:\n",
        "\n",
        "* Defining Functions\n",
        "* Lambda Expressions"
      ]
    },
    {
      "cell_type": "markdown",
      "source": [
        "## Defining Functions\n",
        "\n",
        "Example of a function definition:"
      ],
      "metadata": {
        "id": "Z8yMR4DHhKN7"
      }
    },
    {
      "cell_type": "code",
      "source": [
        "def cylinder_volume(height, radius):\n",
        "    pi = 3.14159\n",
        "    return height  *pi*  radius ** 2"
      ],
      "metadata": {
        "id": "hbh0Kt9phOGE"
      },
      "execution_count": 1,
      "outputs": []
    },
    {
      "cell_type": "markdown",
      "source": [
        "After defining the cylinder_volume function, we can call the function like this."
      ],
      "metadata": {
        "id": "3DR84f_9hTT0"
      }
    },
    {
      "cell_type": "code",
      "source": [
        "cylinder_volume(10, 3)"
      ],
      "metadata": {
        "colab": {
          "base_uri": "https://localhost:8080/"
        },
        "id": "2zsBhbR_hUt5",
        "outputId": "4e66bdf6-a52a-448f-8dca-fa837b7090f7"
      },
      "execution_count": 2,
      "outputs": [
        {
          "output_type": "execute_result",
          "data": {
            "text/plain": [
              "282.7431"
            ]
          },
          "metadata": {},
          "execution_count": 2
        }
      ]
    },
    {
      "cell_type": "markdown",
      "source": [
        "This is called a function call statement.\n",
        "\n",
        "A function definition includes several important parts."
      ],
      "metadata": {
        "id": "pCgmiKqhhX7U"
      }
    },
    {
      "cell_type": "markdown",
      "source": [
        "### Function Header\n",
        "\n",
        "Let's start with the function header, which is the first line of a function definition.\n",
        "\n",
        "1. The function header always starts with the `def` keyword, which indicates that this is a function definition.\n",
        "2. Then comes the function name (here, `cylinder_volume`), which follows the same naming conventions as variables. You can revisit the naming conventions below.\n",
        "3. Immediately after the name are parentheses that may include arguments separated by commas (here, `height` and `radius`). Arguments, or parameters, are values that are passed in as inputs when the function is called, and are used in the function body. If a function doesn't take arguments, these parentheses are left empty.\n",
        "4. The header always end with a colon `:`."
      ],
      "metadata": {
        "id": "mXZ3_CsshdUb"
      }
    },
    {
      "cell_type": "markdown",
      "source": [
        "### Function Body\n",
        "\n",
        "The rest of the function is contained in the body, which is where the function does its work.\n",
        "\n",
        "1. The body of a function is the code indented after the header line. Here, it's the two lines that define `pi` and `return` the volume.\n",
        "2. Within this body, we can refer to the argument variables and define new variables, which can only be used within these indented lines.\n",
        "3. The body will often include a `return` statement, which is used to send back an output value from the function to the statement that called the function. A `return` statement consists of the `return` keyword followed by an expression that is evaluated to get the output value for the function. If there is no `return` statement, the function simply returns None."
      ],
      "metadata": {
        "id": "s3khUrdehkvs"
      }
    },
    {
      "cell_type": "markdown",
      "source": [
        "### Naming Conventions for Functions\n",
        "Function names follow the same naming conventions as variables.\n",
        "\n",
        "1. Only use ordinary letters, numbers and underscores in your function names. They can’t have spaces, and need to start with a letter or underscore.\n",
        "2. You can’t use Python's reserved words or keywords for function names, as discussed earlier with variable names.\n",
        "3. Try to use descriptive names that can help readers understand what the function does."
      ],
      "metadata": {
        "id": "fzTORC0ohv7Y"
      }
    },
    {
      "cell_type": "markdown",
      "source": [
        "## Print vs Return in Functions\n",
        "\n",
        "Here are two valid functions. One returns a value and one simply prints a value, without returning anything. Test run this code and experiment to understand the difference."
      ],
      "metadata": {
        "id": "ZvUVo7yWjBXT"
      }
    },
    {
      "cell_type": "code",
      "source": [
        "# this prints something, but does not return anything\n",
        "def show_plus_ten(num):\n",
        "    print(num + 10)"
      ],
      "metadata": {
        "id": "mmcXA-7ZjIQV"
      },
      "execution_count": 3,
      "outputs": []
    },
    {
      "cell_type": "code",
      "source": [
        "# this returns something\n",
        "def add_ten(num):\n",
        "    return(num + 10)"
      ],
      "metadata": {
        "id": "W18b9WRvjKus"
      },
      "execution_count": 4,
      "outputs": []
    },
    {
      "cell_type": "code",
      "source": [
        "print('Calling show_plus_ten...')\n",
        "return_value_1 = show_plus_ten(5)\n",
        "print('Done calling')\n",
        "print('This function returned: ' + str(return_value_1))\n",
        "\n",
        "print('\\nCalling add_ten...')\n",
        "return_value_2 = add_ten(5)\n",
        "print('Done calling')\n",
        "print('This function returned: ' + str(return_value_2))"
      ],
      "metadata": {
        "colab": {
          "base_uri": "https://localhost:8080/"
        },
        "id": "l4SCeu1PjLsH",
        "outputId": "9ecf8edd-ef91-4591-c311-024242073d9c"
      },
      "execution_count": 5,
      "outputs": [
        {
          "output_type": "stream",
          "name": "stdout",
          "text": [
            "Calling show_plus_ten...\n",
            "15\n",
            "Done calling\n",
            "This function returned: None\n",
            "\n",
            "Calling add_ten...\n",
            "Done calling\n",
            "This function returned: 15\n"
          ]
        }
      ]
    },
    {
      "cell_type": "markdown",
      "source": [
        "## Default Arguments\n",
        "\n",
        "We can add default arguments in a function to have default values for parameters that are unspecified in a function call."
      ],
      "metadata": {
        "id": "jqdp8gsdjmch"
      }
    },
    {
      "cell_type": "code",
      "source": [
        "def cylinder_volume(height, radius=5):\n",
        "    pi = 3.14159\n",
        "    return height  *pi*  radius ** 2"
      ],
      "metadata": {
        "id": "lxC7JA7gjqtE"
      },
      "execution_count": 6,
      "outputs": []
    },
    {
      "cell_type": "markdown",
      "source": [
        "In the example above, radius is set to 5 if that parameter is omitted in a function call. If we call cylinder_volume(10), the function will use 10 as the height and 5 as the radius. However, if we call cylinder_volume(10, 7) the 7 will simply overwrite the default value of 5.\n",
        "\n",
        "Also notice here we are passing values to our arguments by position. It is possible to pass values in two ways - by position and by name. Each of these function calls are evaluated the same way."
      ],
      "metadata": {
        "id": "H9UheKSRjsnE"
      }
    },
    {
      "cell_type": "code",
      "source": [
        "cylinder_volume(10, 7)  # pass in arguments by position\n",
        "cylinder_volume(height=10, radius=7)  # pass in arguments by name"
      ],
      "metadata": {
        "colab": {
          "base_uri": "https://localhost:8080/"
        },
        "id": "YO_j_KcmjwwL",
        "outputId": "bed0a42c-c0f2-44a1-8089-5aa60ab51639"
      },
      "execution_count": 7,
      "outputs": [
        {
          "output_type": "execute_result",
          "data": {
            "text/plain": [
              "1539.3791"
            ]
          },
          "metadata": {},
          "execution_count": 7
        }
      ]
    },
    {
      "cell_type": "markdown",
      "source": [
        "## Lambda Expressions\n",
        "You can use lambda expressions to create anonymous functions. That is, functions that don’t have a name. They are helpful for creating quick functions that aren’t needed later in your code. This can be especially useful for higher order functions, or functions that take in other functions as arguments.\n",
        "\n",
        "With a lambda expression, this function:"
      ],
      "metadata": {
        "id": "qM8AU2G1PPn6"
      }
    },
    {
      "cell_type": "code",
      "source": [
        "def multiply(x, y):\n",
        "    return x * y"
      ],
      "metadata": {
        "id": "kwoF7uPXPP_V"
      },
      "execution_count": 8,
      "outputs": []
    },
    {
      "cell_type": "markdown",
      "source": [
        "can be reduced to:"
      ],
      "metadata": {
        "id": "wke9rSPSPWk5"
      }
    },
    {
      "cell_type": "code",
      "source": [
        "multiply = lambda x, y: x * y"
      ],
      "metadata": {
        "id": "rAcB4-7yPWBQ"
      },
      "execution_count": 9,
      "outputs": []
    },
    {
      "cell_type": "markdown",
      "source": [
        "Both of these functions are used in the same way. In either case, we can call multiply like this:\n",
        "\n"
      ],
      "metadata": {
        "id": "xi6C9ceJPpzQ"
      }
    },
    {
      "cell_type": "code",
      "source": [
        "multiply(4, 7)"
      ],
      "metadata": {
        "colab": {
          "base_uri": "https://localhost:8080/"
        },
        "id": "AKub8y09PrcS",
        "outputId": "4d4e390f-e309-4848-e4da-b62dccaf0868"
      },
      "execution_count": 10,
      "outputs": [
        {
          "output_type": "execute_result",
          "data": {
            "text/plain": [
              "28"
            ]
          },
          "metadata": {},
          "execution_count": 10
        }
      ]
    },
    {
      "cell_type": "markdown",
      "source": [
        "### Components of a Lambda Function\n",
        "1. The `lambda` keyword is used to indicate that this is a lambda expression.\n",
        "2. Following `lambda` are one or more arguments for the anonymous function separated by commas, followed by a colon `:`. Similar to functions, the way the arguments are named in a lambda expression is arbitrary.\n",
        "3. Last is an expression that is evaluated and returned in this function. This is a lot like an expression you might see as a return statement in a function.\n",
        "\n",
        "\n",
        "With this structure, lambda expressions aren’t ideal for complex functions, but can be very useful for short, simple functions."
      ],
      "metadata": {
        "id": "eCFN1smCPt-3"
      }
    }
  ],
  "metadata": {
    "celltoolbar": "Slideshow",
    "colab": {
      "provenance": [],
      "include_colab_link": true
    },
    "kernelspec": {
      "display_name": "Python 3",
      "language": "python",
      "name": "python3"
    },
    "language_info": {
      "codemirror_mode": {
        "name": "ipython",
        "version": 3
      },
      "file_extension": ".py",
      "mimetype": "text/x-python",
      "name": "python",
      "nbconvert_exporter": "python",
      "pygments_lexer": "ipython3",
      "version": "3.11.5"
    }
  },
  "nbformat": 4,
  "nbformat_minor": 0
}