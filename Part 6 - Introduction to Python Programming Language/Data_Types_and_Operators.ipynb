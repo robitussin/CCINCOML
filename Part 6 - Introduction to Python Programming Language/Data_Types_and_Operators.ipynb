{
  "cells": [
    {
      "cell_type": "markdown",
      "metadata": {
        "id": "view-in-github",
        "colab_type": "text"
      },
      "source": [
        "<a href=\"https://colab.research.google.com/github/robitussin/CCINCOML/blob/main/Part%206%20-%20Introduction%20to%20Python%20Programming%20Language/Data_Types_and_Operators.ipynb\" target=\"_parent\"><img src=\"https://colab.research.google.com/assets/colab-badge.svg\" alt=\"Open In Colab\"/></a>"
      ]
    },
    {
      "cell_type": "markdown",
      "metadata": {
        "id": "qMcqAHbTBq22"
      },
      "source": [
        "# Introduction to Python Programming Language: Data Types and Operators"
      ]
    },
    {
      "cell_type": "markdown",
      "metadata": {
        "id": "cglJ7FBQJH4-"
      },
      "source": [
        "## What is Google Colab?\n",
        "**Google Colab** is a cloud based Jupyter Notebook that allows you to run and execute your Python code remotely and save your work into your personal Google Drive"
      ]
    },
    {
      "cell_type": "markdown",
      "metadata": {
        "id": "G4W1DC0yJH4-"
      },
      "source": [
        "<img src=\"https://miro.medium.com/v2/resize:fit:1400/1*6nKt2fNOIxv4HX_o9-AIVw.png\" width=\"800px\" style=\"margin-bottom: 10px;\">"
      ]
    },
    {
      "cell_type": "markdown",
      "metadata": {
        "id": "T8ZddZMDJH4-"
      },
      "source": [
        "### Advantages of using Google Colab\n",
        "\n",
        "One of the excellent features of Colab that all developers should take full advantage of is the use of text and code compartmentalisation.\n",
        "\n",
        "Basically, splitting your code up into chucks of code and text in code cells and text cells respectively.\n",
        "\n",
        "* We don't need to install Python.\n",
        "\n",
        "* It runs on the web-browser.\n",
        "\n",
        "* and most important, its FREE!"
      ]
    },
    {
      "cell_type": "markdown",
      "metadata": {
        "id": "JwDh56t1JH4-"
      },
      "source": [
        "### What is a Python Notebook?"
      ]
    },
    {
      "cell_type": "markdown",
      "metadata": {
        "id": "8p2_vH_pJH4-"
      },
      "source": [
        "The document that you are reading is not a static web page, but an interactive environment called a **notebook**, that lets you write and execute code.\n",
        "\n",
        "Notebooks consist of so-called code cells, blocks of one or more Python instructions.\n",
        "\n",
        "For example, below is a code cell to print \"Hello World\"."
      ]
    },
    {
      "cell_type": "code",
      "execution_count": null,
      "metadata": {
        "id": "DMC-E5cGJH4_",
        "outputId": "62adac9e-3fc4-46ab-ed94-3aef785c50e9"
      },
      "outputs": [
        {
          "name": "stdout",
          "output_type": "stream",
          "text": [
            "Hello World\n"
          ]
        }
      ],
      "source": [
        "print(\"Hello World\")"
      ]
    },
    {
      "cell_type": "markdown",
      "metadata": {
        "id": "hWiSaDz_JH4_"
      },
      "source": [
        "Just hover the mouse over **[ ]** and press the play button ▶️ to the upper left.\n",
        "\n",
        "You should be able to see the result.\n",
        "\n",
        "Alternatively, you can also execute the cell by pressing Ctrl + Enter if you are on Windows / Linux or Command + Enter if you are on a Mac."
      ]
    },
    {
      "cell_type": "markdown",
      "metadata": {
        "id": "BnHS6gUwJH4_"
      },
      "source": [
        "Variables that you defined in one cell can later be used in other cells:"
      ]
    },
    {
      "cell_type": "code",
      "execution_count": null,
      "metadata": {
        "id": "15Mi9vd8JH4_"
      },
      "outputs": [],
      "source": [
        "name = \"Elizer\""
      ]
    },
    {
      "cell_type": "code",
      "execution_count": null,
      "metadata": {
        "id": "8cBDDITsJH4_",
        "outputId": "e82766e7-cedf-469e-de99-ff93a8dee0d5"
      },
      "outputs": [
        {
          "name": "stdout",
          "output_type": "stream",
          "text": [
            "Elizer\n"
          ]
        }
      ],
      "source": [
        "print(name)"
      ]
    },
    {
      "cell_type": "markdown",
      "metadata": {
        "id": "Q_qBzYSaJH5A"
      },
      "source": [
        "Note that the order of execution is important.\n",
        "\n",
        "For instance, if we do not run the cell storing name beforehand, the above cell will raise an error, as it depends on this variable.\n",
        "\n",
        "To make sure that you run all the cells in the correct order, you can also click on **\"Runtime\"** in the top-level menu, then **\"Run all\"**."
      ]
    },
    {
      "cell_type": "markdown",
      "metadata": {
        "id": "h9QLrEKzBq3M"
      },
      "source": [
        "## What is Python?\n",
        "\n",
        "* Python is a programming language\n",
        "* Specifically, it's a widely used, very flexible, high-level, general-purpose, dynamic programming language\n",
        "* That's a mouthful! Let's explore each of these points in more detail..."
      ]
    },
    {
      "cell_type": "markdown",
      "metadata": {
        "id": "H7f-_rgmJH5A"
      },
      "source": [
        "<img src=\"https://upload.wikimedia.org/wikipedia/commons/thumb/c/c3/Python-logo-notext.svg/800px-Python-logo-notext.svg.png\" width=\"300px\" style=\"margin-bottom: 10px;\">"
      ]
    },
    {
      "cell_type": "markdown",
      "metadata": {
        "id": "sww3i_1JBq3M"
      },
      "source": [
        "### Widely-used\n",
        "* Python is the fastest-growing major programming language\n",
        "* Top 3 overall (with JavaScript, Java) [source of these rankings](https://redmonk.com/sogrady/2021/03/01/language-rankings-1-21/)."
      ]
    },
    {
      "cell_type": "markdown",
      "metadata": {
        "id": "0A_b6gQZBq3O"
      },
      "source": [
        "<img src=\"https://redmonk.com/sogrady/files/2021/03/lang.rank_.0121.wm_.png\" width=\"800px\" style=\"margin-bottom: 10px;\">"
      ]
    },
    {
      "cell_type": "markdown",
      "metadata": {
        "id": "NJBLPNZXBq3P"
      },
      "source": [
        "### High-level\n",
        "Python features a high level of abstraction\n",
        "* Many operations that are explicit in lower-level languages (e.g., C/C++) are implicit in Python\n",
        "* E.g., memory allocation, garbage collection, etc.\n",
        "* Python lets you write code faster"
      ]
    },
    {
      "cell_type": "markdown",
      "metadata": {
        "id": "NXun0VVUBq3Q"
      },
      "source": [
        "#### File reading in Java\n",
        "```java\n",
        "import java.io.BufferedReader;\n",
        "import java.io.FileReader;\n",
        "import java.io.IOException;\n",
        "\n",
        "public class ReadFile {\n",
        "    public static void main(String[] args) throws IOException{\n",
        "        String fileContents = readEntireFile(\"./foo.txt\");\n",
        "    }\n",
        "\n",
        "    private static String readEntireFile(String filename) throws IOException {\n",
        "        FileReader in = new FileReader(filename);\n",
        "        StringBuilder contents = new StringBuilder();\n",
        "        char[] buffer = new char[4096];\n",
        "        int read = 0;\n",
        "        do {\n",
        "            contents.append(buffer, 0, read);\n",
        "            read = in.read(buffer);\n",
        "        } while (read >= 0);\n",
        "        return contents.toString();\n",
        "    }\n",
        "}\n",
        "```"
      ]
    },
    {
      "cell_type": "markdown",
      "metadata": {
        "id": "CS7ePe9nBq3U"
      },
      "source": [
        "#### File-reading in Python\n",
        "```python\n",
        "open(filename).read()\n",
        "```"
      ]
    },
    {
      "cell_type": "markdown",
      "metadata": {
        "id": "Gf2LFwyIBq3V"
      },
      "source": [
        "### General-purpose\n",
        "You can do almost everything in Python\n",
        "* Comprehensive standard library\n",
        "* Enormous ecosystem of third-party packages\n",
        "* Widely used in many areas of software development (web, dev-ops, data science, etc.)"
      ]
    },
    {
      "cell_type": "markdown",
      "metadata": {
        "id": "2EmCdS7NBq3V"
      },
      "source": [
        "### Dynamic\n",
        "Code is interpreted at run-time\n",
        "* No compilation process*; code is read line-by-line when executed\n",
        "* Eliminates delays between development and execution\n",
        "* The downside: poorer performance compared to compiled languages"
      ]
    },
    {
      "cell_type": "markdown",
      "metadata": {
        "id": "0quvBi4XJH5B"
      },
      "source": [
        "## Arithmetic Operators"
      ]
    },
    {
      "cell_type": "markdown",
      "metadata": {
        "id": "VbJkalaAJH5B"
      },
      "source": [
        "|   Symbol | Operation  |  \n",
        "|---|---|\n",
        "|  +  |  Addition |  \n",
        "|  - |  Subtraction |  \n",
        "|  * | Multiplication  |\n",
        "|  / | Division  |   \n",
        "|  ** | Exponentiation  |\n",
        "|  % | Modulo  |    \n",
        "|  // | Integer Division  |"
      ]
    },
    {
      "cell_type": "code",
      "execution_count": null,
      "metadata": {
        "id": "kQE_8E2GJH5B",
        "outputId": "bb08f0db-bcc0-4c7a-c013-1ee9f408f11f"
      },
      "outputs": [
        {
          "data": {
            "text/plain": [
              "7"
            ]
          },
          "execution_count": 4,
          "metadata": {},
          "output_type": "execute_result"
        }
      ],
      "source": [
        "# Addition\n",
        "3 + 4"
      ]
    },
    {
      "cell_type": "code",
      "execution_count": null,
      "metadata": {
        "id": "xLoc7mwuJH5B",
        "outputId": "1dc22aed-5a28-47fd-97e7-a3c02874b4d2"
      },
      "outputs": [
        {
          "data": {
            "text/plain": [
              "4"
            ]
          },
          "execution_count": 5,
          "metadata": {},
          "output_type": "execute_result"
        }
      ],
      "source": [
        "# Subtraction\n",
        "9 - 5"
      ]
    },
    {
      "cell_type": "code",
      "execution_count": null,
      "metadata": {
        "id": "EcKWCy-zJH5B",
        "outputId": "fa824c2c-d9da-47b6-8323-1700e578d949"
      },
      "outputs": [
        {
          "data": {
            "text/plain": [
              "60"
            ]
          },
          "execution_count": 6,
          "metadata": {},
          "output_type": "execute_result"
        }
      ],
      "source": [
        "# Multiplication\n",
        "3 * 20"
      ]
    },
    {
      "cell_type": "code",
      "execution_count": null,
      "metadata": {
        "id": "HZbeF1OoJH5B",
        "outputId": "4238990e-f850-4cfd-f4cd-7672679b9ed4"
      },
      "outputs": [
        {
          "data": {
            "text/plain": [
              "4.5"
            ]
          },
          "execution_count": 7,
          "metadata": {},
          "output_type": "execute_result"
        }
      ],
      "source": [
        "# Division\n",
        "18 / 4"
      ]
    },
    {
      "cell_type": "code",
      "execution_count": null,
      "metadata": {
        "id": "3_HSn8sUJH5B",
        "outputId": "e3b21bd2-7b4a-4c4a-c7c7-505637986092"
      },
      "outputs": [
        {
          "data": {
            "text/plain": [
              "4"
            ]
          },
          "execution_count": 8,
          "metadata": {},
          "output_type": "execute_result"
        }
      ],
      "source": [
        "## Divison without remainder\n",
        "18 // 4"
      ]
    },
    {
      "cell_type": "code",
      "execution_count": null,
      "metadata": {
        "id": "5uzuoK92JH5B",
        "outputId": "8122037e-77a9-4d7c-ae4a-9cd4eab277fa"
      },
      "outputs": [
        {
          "data": {
            "text/plain": [
              "2"
            ]
          },
          "execution_count": 9,
          "metadata": {},
          "output_type": "execute_result"
        }
      ],
      "source": [
        "# Modulo\n",
        "18 % 4"
      ]
    },
    {
      "cell_type": "code",
      "execution_count": null,
      "metadata": {
        "id": "qgzbsgSiJH5C",
        "outputId": "b1bd99a7-d0d7-4ee0-9bb8-328a8aca83f9"
      },
      "outputs": [
        {
          "data": {
            "text/plain": [
              "125"
            ]
          },
          "execution_count": 10,
          "metadata": {},
          "output_type": "execute_result"
        }
      ],
      "source": [
        "## Exponentiation\n",
        "5**3"
      ]
    },
    {
      "cell_type": "markdown",
      "metadata": {
        "id": "s_M8D8QjJH5C"
      },
      "source": [
        "## Variables"
      ]
    },
    {
      "cell_type": "markdown",
      "metadata": {
        "id": "MYT-kIgQJH5C"
      },
      "source": [
        "* In Python, we declare a variable by assigning it a value with the = sign\n",
        "    * Variables are pointers, not data stores!\n",
        "* Python supports a variety of data types:\n",
        "    * booleans (True or False)\n",
        "    * numbers (ints, floats, etc.)\n",
        "    * strings\n",
        "* We don't specify a variable's type at assignment—Python uses [duck typing](https://en.wikipedia.org/wiki/Duck_typing)"
      ]
    },
    {
      "cell_type": "markdown",
      "metadata": {
        "id": "riVB_SUJJH5C"
      },
      "source": [
        "Variables are used all the time in Python! Here is an example"
      ]
    },
    {
      "cell_type": "code",
      "execution_count": null,
      "metadata": {
        "id": "fUiPb4ACJH5C"
      },
      "outputs": [],
      "source": [
        "my_age = 20"
      ]
    },
    {
      "cell_type": "markdown",
      "metadata": {
        "id": "prs9PTQhJH5C"
      },
      "source": [
        "Here **my_age** is a variable, which holds the value of 20.\n",
        "\n",
        "This assigns the item on the right to the name on the left, which is actually a little different than mathematical equality, as 20 does not hold the value of mv_population.\n",
        "\n",
        "In any case, whatever term is on the left side, is now a name for whatever value is on the right side. Once a value has been assigned to a variable name, you can access the value from the variable name."
      ]
    },
    {
      "cell_type": "markdown",
      "metadata": {
        "id": "VDWBwjWRJH5C"
      },
      "source": [
        "### Assign multiple variables at once"
      ]
    },
    {
      "cell_type": "code",
      "execution_count": null,
      "metadata": {
        "id": "qdHd-vp-JH5C"
      },
      "outputs": [],
      "source": [
        "x = 2\n",
        "y = 3\n",
        "z = 5"
      ]
    },
    {
      "cell_type": "markdown",
      "metadata": {
        "id": "QNIM4BKkJH5C"
      },
      "source": [
        "In python, the variable assigment above can be shortened in one line"
      ]
    },
    {
      "cell_type": "code",
      "execution_count": null,
      "metadata": {
        "id": "frxQLWEIJH5C"
      },
      "outputs": [],
      "source": [
        "x, y, z = 2, 3, 5"
      ]
    },
    {
      "cell_type": "markdown",
      "metadata": {
        "id": "jtcAfBxeJH5J"
      },
      "source": [
        "However, the code above isn't a great way to assign variables in most cases, because our variable names should be descriptive of the values they hold.\n",
        "\n",
        "For example, if we are to compute how much money we spend every week,\n",
        "\n",
        "We can write the following code below:"
      ]
    },
    {
      "cell_type": "code",
      "execution_count": null,
      "metadata": {
        "id": "_aYwdA3IJH5K",
        "outputId": "d02753fe-5dda-4d74-d61f-a1c8d820d523"
      },
      "outputs": [
        {
          "name": "stdout",
          "output_type": "stream",
          "text": [
            "4.857142857142857\n"
          ]
        }
      ],
      "source": [
        "## Average money spent every week\n",
        "\n",
        "a = 5\n",
        "b = 5\n",
        "c = 4\n",
        "d = 5\n",
        "e = 6\n",
        "f = 5\n",
        "g = 4\n",
        "\n",
        "z = (a + b + c + d + e + f + g) / 7\n",
        "print(z)"
      ]
    },
    {
      "cell_type": "markdown",
      "metadata": {
        "id": "CEC8Kp2nJH5K"
      },
      "source": [
        "The code is much clearer if we use variable names that are much descriptive of what values they represent."
      ]
    },
    {
      "cell_type": "code",
      "execution_count": null,
      "metadata": {
        "id": "PMtSLqsEJH5K",
        "outputId": "6891908d-6c79-4c73-c354-ed09450bd9a5"
      },
      "outputs": [
        {
          "name": "stdout",
          "output_type": "stream",
          "text": [
            "4.857142857142857\n"
          ]
        }
      ],
      "source": [
        "## Average money spent everyday\n",
        "\n",
        "monday = 5\n",
        "tuesday = 5\n",
        "wednesday = 4\n",
        "thursday = 5\n",
        "friday = 6\n",
        "saturday = 5\n",
        "sunday = 4\n",
        "\n",
        "num_days_of_week = 7\n",
        "\n",
        "average = (monday + tuesday + wednesday + thursday + friday + saturday + sunday) / num_days_of_week\n",
        "\n",
        "print(average)"
      ]
    },
    {
      "cell_type": "markdown",
      "metadata": {
        "id": "724Gb0-EJH5K"
      },
      "source": [
        "\n",
        "Besides writing variable names that are descriptive, there are a few things to watch out for when naming variables in Python."
      ]
    },
    {
      "cell_type": "markdown",
      "metadata": {
        "id": "rRzVcyjvJH5K"
      },
      "source": [
        "1. Only use ordinary letters, numbers and underscores in your variable names. They can’t have spaces, and need to start with a letter or underscore."
      ]
    },
    {
      "cell_type": "code",
      "execution_count": null,
      "metadata": {
        "id": "8xyEK6C8JH5K"
      },
      "outputs": [],
      "source": [
        "myname = \"Elizer\"\n",
        "my_name = \"Elizer\"\n",
        "myname123 = \"Elizer\""
      ]
    },
    {
      "cell_type": "code",
      "execution_count": null,
      "metadata": {
        "id": "QyUXu6yPJH5K"
      },
      "outputs": [],
      "source": [
        "# These are not allowed\n",
        "# my name = \"Elizer\"\n",
        "# 123name = \"Elizer\""
      ]
    },
    {
      "cell_type": "markdown",
      "metadata": {
        "id": "MzuOGNMlJH5L"
      },
      "source": [
        "2. You can’t use Python's reserved words, or \"keywords,\" as variable names. There are reserved words in every programming language that have important purposes, and you’ll learn about some of these throughout this course. Creating names that are descriptive of the values often will help you avoid using any of these keywords. Here you can see a table of Python's reserved words(opens in a new tab)."
      ]
    },
    {
      "cell_type": "code",
      "execution_count": null,
      "metadata": {
        "id": "PcHX9ZTkJH5L"
      },
      "outputs": [],
      "source": [
        "# These are not allowed\n",
        "\n",
        "# def = \"Elizer\"\n",
        "# class = \"Elizer\"\n",
        "# True = \"Elizer\"\n",
        "# False = \"Elizer\""
      ]
    },
    {
      "cell_type": "markdown",
      "metadata": {
        "id": "je4o3EYtJH5L"
      },
      "source": [
        "3. The pythonic way to name variables is to use all lowercase letters and underscores to separate words."
      ]
    },
    {
      "cell_type": "code",
      "execution_count": null,
      "metadata": {
        "id": "E-c19RSzJH5L"
      },
      "outputs": [],
      "source": [
        "# Pythonic way\n",
        "i_love_python = True\n",
        "my_height = 58\n",
        "\n",
        "# Allowed but is not pythonic! :(\n",
        "iLovePython = True\n",
        "myHeight = 58"
      ]
    },
    {
      "cell_type": "markdown",
      "metadata": {
        "id": "h8VZf6VzJH5L"
      },
      "source": [
        "Though the last two of these would work in python, they are not pythonic ways to name variables. The way we name variables is called snake case, because we tend to connect the words with underscores."
      ]
    },
    {
      "cell_type": "markdown",
      "metadata": {
        "id": "NC9wZBQkJH5L"
      },
      "source": [
        "## Assignment Operators\n",
        "\n",
        "You can use addition assigment operators to make shorter calculations"
      ]
    },
    {
      "cell_type": "markdown",
      "metadata": {
        "id": "7mQdENGdJH5L"
      },
      "source": [
        "<img src=\"https://video.udacity-data.com/topher/2018/January/5a7118b3_screen-shot-2018-01-30-at-5.14.39-pm/screen-shot-2018-01-30-at-5.14.39-pm.png\">"
      ]
    },
    {
      "cell_type": "code",
      "execution_count": null,
      "metadata": {
        "id": "-3S9cj8LJH5L",
        "outputId": "725d1145-827f-4b0a-d002-fed51aede3b7"
      },
      "outputs": [
        {
          "name": "stdout",
          "output_type": "stream",
          "text": [
            "4\n"
          ]
        }
      ],
      "source": [
        "x = 2\n",
        "\n",
        "x = x + 2\n",
        "\n",
        "print(x)"
      ]
    },
    {
      "cell_type": "markdown",
      "metadata": {
        "id": "j7k2lZ8PJH5L"
      },
      "source": [
        "The above code below is equivalent to the code below:"
      ]
    },
    {
      "cell_type": "code",
      "execution_count": null,
      "metadata": {
        "id": "ciZdURT2JH5M",
        "outputId": "0a61034b-062d-41a3-d747-927be96e080c"
      },
      "outputs": [
        {
          "name": "stdout",
          "output_type": "stream",
          "text": [
            "4\n"
          ]
        }
      ],
      "source": [
        "x = 2\n",
        "\n",
        "x += 2\n",
        "print (x)"
      ]
    },
    {
      "cell_type": "markdown",
      "metadata": {
        "id": "xFzjO7kAJH5M"
      },
      "source": [
        "## Integers and Floats"
      ]
    },
    {
      "cell_type": "markdown",
      "metadata": {
        "id": "TtZRt96fJH5M"
      },
      "source": [
        "There are two Python data types that could be used for numeric values:\n",
        "\n",
        "* int - for integer values\n",
        "\n",
        "\n",
        "* float - for decimal or floating point values"
      ]
    },
    {
      "cell_type": "markdown",
      "metadata": {
        "id": "tgr5CZM6JH5M"
      },
      "source": [
        "You can create a value that follows the data type by using the following syntax:"
      ]
    },
    {
      "cell_type": "code",
      "execution_count": null,
      "metadata": {
        "id": "cbLOdBwQJH5M"
      },
      "outputs": [],
      "source": [
        "x = int(4.7)   # x is now an integer 4\n",
        "y = float(4)   # y is now a float of 4.0"
      ]
    },
    {
      "cell_type": "markdown",
      "metadata": {
        "id": "fzGYs-cPJH5M"
      },
      "source": [
        "You can check the type by using the `type()` function:"
      ]
    },
    {
      "cell_type": "code",
      "execution_count": null,
      "metadata": {
        "id": "haIJfSEYJH5M",
        "outputId": "993330c4-bd25-420f-eb61-9bc4c746b28d"
      },
      "outputs": [
        {
          "name": "stdout",
          "output_type": "stream",
          "text": [
            "<class 'int'>\n"
          ]
        }
      ],
      "source": [
        "print(type(x))"
      ]
    },
    {
      "cell_type": "code",
      "execution_count": null,
      "metadata": {
        "id": "xrH70fCXJH5M",
        "outputId": "05fbcd3f-4930-41fa-c114-7f215e96cdb4"
      },
      "outputs": [
        {
          "name": "stdout",
          "output_type": "stream",
          "text": [
            "<class 'float'>\n"
          ]
        }
      ],
      "source": [
        "print(type(y))"
      ]
    },
    {
      "cell_type": "markdown",
      "metadata": {
        "id": "mDY_G6suJH5N"
      },
      "source": [
        "We can also convert a float to an int"
      ]
    },
    {
      "cell_type": "code",
      "execution_count": null,
      "metadata": {
        "id": "lFkR_CZ7JH5N",
        "outputId": "3adc7ed3-dfc6-4bdc-e5f7-e8bee98e7c0d"
      },
      "outputs": [
        {
          "name": "stdout",
          "output_type": "stream",
          "text": [
            "4\n",
            "<class 'int'>\n"
          ]
        }
      ],
      "source": [
        "my_float = 4.0\n",
        "my_int = int(my_float)\n",
        "\n",
        "print(my_int)\n",
        "print(type(my_int))"
      ]
    },
    {
      "cell_type": "markdown",
      "metadata": {
        "id": "V0IaW-1BJH5N"
      },
      "source": [
        "## Booleans, Comparisons Operators and Logical Operators\n",
        "\n",
        "The bool data type holds one of the values True or False, which are often encoded as 1 or 0, respectively.\n",
        "\n",
        "There are 6 comparison operators that are common to see in order to obtain a bool value:"
      ]
    },
    {
      "cell_type": "markdown",
      "metadata": {
        "id": "LSPTuCySJH5N"
      },
      "source": [
        "|   Symbol Use Case | Bool  | Operation  |  \n",
        "|---|---|---|\n",
        "|  5 < 3  |  False | Less Than  |   \n",
        "|  5 > 3 |  True |  Greater Than |  \n",
        "|  3 <= 3 | True  | Less Than or Equal To  |   \n",
        "|  3 >= 3 | False  | Greater than or Equal to |   \n",
        "|  3 == 3 | False  | Equal To |  \n",
        "|  3 != 3 | True  | Not Equal To  |    "
      ]
    },
    {
      "cell_type": "code",
      "execution_count": null,
      "metadata": {
        "id": "FEZL192HJH5N",
        "outputId": "4d56e995-c8bf-41b8-9d6c-0739f84dc9cf"
      },
      "outputs": [
        {
          "name": "stdout",
          "output_type": "stream",
          "text": [
            "True\n"
          ]
        }
      ],
      "source": [
        "age = 18\n",
        "\n",
        "print(age < 20)"
      ]
    },
    {
      "cell_type": "markdown",
      "metadata": {
        "id": "HKoV6BmOJH5N"
      },
      "source": [
        "|   Logical Use | Bool  | Operation  |  \n",
        "|---|---|---|\n",
        "|  5 < 3 `and` 5 == 5 |  False | `and` - evaluates if all provided statements are true  |   \n",
        "|  5 > 3 `or` 5 == 5|  True |  `or` - Evaluates if at least one of many statements is True |  \n",
        "|  `not` 5 < 3 | True  | `not` - Reverses the bool value  |   \n",
        "    "
      ]
    },
    {
      "cell_type": "code",
      "execution_count": null,
      "metadata": {
        "id": "m8-Vc8ddJH5N",
        "outputId": "63125038-c118-4668-f7ab-9208f4fabd93"
      },
      "outputs": [
        {
          "name": "stdout",
          "output_type": "stream",
          "text": [
            "True\n"
          ]
        }
      ],
      "source": [
        "age = 18\n",
        "\n",
        "is_teenager = age > 12 and age < 20\n",
        "\n",
        "print(is_teenager)"
      ]
    },
    {
      "cell_type": "markdown",
      "metadata": {
        "id": "TOuNXkZlJH5N"
      },
      "source": [
        "## Strings\n",
        "\n",
        "Strings in Python are shown as the variable type str. You can define a string with either double quotes \" or single quotes '.\n",
        "\n",
        " If the string you are creating actually has one of these two values in it, then you need to be careful to assure your code doesn't give an error."
      ]
    },
    {
      "cell_type": "code",
      "execution_count": null,
      "metadata": {
        "id": "r_uanauRJH5N"
      },
      "outputs": [],
      "source": [
        "my_string = 'this is a string!'\n",
        "my_string2 = \"this is also a string!!!\""
      ]
    },
    {
      "cell_type": "markdown",
      "metadata": {
        "id": "hvAsQIYxJH5O"
      },
      "source": [
        "If single or double quotes is in your string,\n",
        "\n",
        "Use the `\\` symbol before the single or double quote to include it as a string"
      ]
    },
    {
      "cell_type": "code",
      "execution_count": null,
      "metadata": {
        "id": "8tzDV26SJH5O"
      },
      "outputs": [],
      "source": [
        "this_string = 'Simon\\'s skateboard is in the garage.'"
      ]
    },
    {
      "cell_type": "markdown",
      "metadata": {
        "id": "kUfCM9uEJH5O"
      },
      "source": [
        "Without it `\\` symbol, python will return an error"
      ]
    },
    {
      "cell_type": "code",
      "execution_count": null,
      "metadata": {
        "id": "1z8xscEoJH5O"
      },
      "outputs": [],
      "source": [
        "# This will result in an error\n",
        "# this_string = 'Simon's skateboard is in the garage.'"
      ]
    },
    {
      "cell_type": "markdown",
      "metadata": {
        "id": "pu7ZEPL5JH5O"
      },
      "source": [
        "We can use the `+` operator to combine strings together"
      ]
    },
    {
      "cell_type": "code",
      "execution_count": null,
      "metadata": {
        "id": "haLIznymJH5O",
        "outputId": "a735b499-1a5b-4fb3-ef0e-c3b4813d8bb2"
      },
      "outputs": [
        {
          "name": "stdout",
          "output_type": "stream",
          "text": [
            "HelloWorld\n",
            "Hello World\n"
          ]
        }
      ],
      "source": [
        "first_word = 'Hello'\n",
        "second_word = 'World'\n",
        "print(first_word + second_word)\n",
        "print(first_word + ' ' + second_word)"
      ]
    },
    {
      "cell_type": "markdown",
      "metadata": {
        "id": "fxn7ycBkJH5O"
      },
      "source": [
        "We can use the `*` operator to repeat strings"
      ]
    },
    {
      "cell_type": "code",
      "execution_count": null,
      "metadata": {
        "id": "W_CGjxk_JH5O",
        "outputId": "eab2a932-3a2f-427c-e05e-f9ab265eca25"
      },
      "outputs": [
        {
          "name": "stdout",
          "output_type": "stream",
          "text": [
            "HelloHelloHelloHelloHello\n"
          ]
        }
      ],
      "source": [
        "print(first_word * 5)"
      ]
    },
    {
      "cell_type": "markdown",
      "metadata": {
        "id": "xQ9NdkS0JH5O"
      },
      "source": [
        "### The `len()` function\n",
        "\n",
        "`len()` is a built-in Python function that returns the length of an object, like a string.\n",
        "\n",
        "The length of a string is the number of characters in the string. This will always be an integer."
      ]
    },
    {
      "cell_type": "code",
      "execution_count": null,
      "metadata": {
        "id": "5WAafQltJH5P",
        "outputId": "8925bd2b-47e0-494c-d379-74e24af18a43"
      },
      "outputs": [
        {
          "name": "stdout",
          "output_type": "stream",
          "text": [
            "5\n"
          ]
        }
      ],
      "source": [
        "surname = \"ponio\"\n",
        "\n",
        "print(len(surname))"
      ]
    },
    {
      "cell_type": "markdown",
      "metadata": {
        "id": "Ih6OhwYZJH5P"
      },
      "source": [
        "## Types and Type Conversions\n",
        "\n",
        "We have seen four data type so far:\n",
        "\n",
        "* int\n",
        "* float\n",
        "* bool\n",
        "* string\n"
      ]
    },
    {
      "cell_type": "markdown",
      "metadata": {
        "id": "vvIHEP72JH5P"
      },
      "source": [
        "The `type()` function can be used to check the data type of any variable you are working with."
      ]
    },
    {
      "cell_type": "code",
      "execution_count": null,
      "metadata": {
        "id": "WS2BwX0iJH5P",
        "outputId": "aec4b3b6-7f44-4c45-fc49-e77a9c55939e"
      },
      "outputs": [
        {
          "name": "stdout",
          "output_type": "stream",
          "text": [
            "<class 'int'>\n",
            "<class 'float'>\n",
            "<class 'str'>\n",
            "<class 'bool'>\n"
          ]
        },
        {
          "data": {
            "text/plain": [
              "bool"
            ]
          },
          "execution_count": 34,
          "metadata": {},
          "output_type": "execute_result"
        }
      ],
      "source": [
        "print(type(633))\n",
        "int\n",
        "print(type(633.0))\n",
        "float\n",
        "print(type('633'))\n",
        "str\n",
        "print(type(True))\n",
        "bool"
      ]
    },
    {
      "cell_type": "code",
      "execution_count": null,
      "metadata": {
        "id": "FA8cBEgfJH5P",
        "outputId": "a55d3248-9255-4f6a-b927-8aaff16153cc"
      },
      "outputs": [
        {
          "name": "stdout",
          "output_type": "stream",
          "text": [
            "<class 'int'>\n",
            "551 M.F Jhocson Street, Sampaloc, Manila\n"
          ]
        }
      ],
      "source": [
        "house_number = 551\n",
        "street_name = \"M.F Jhocson Street\"\n",
        "district_name = \"Sampaloc\"\n",
        "city_name = \"Manila\"\n",
        "\n",
        "print(type(house_number))\n",
        "\n",
        "address = str(house_number) + \" \" + street_name + \", \" + district_name + \", \" + city_name\n",
        "print(address)\n"
      ]
    },
    {
      "cell_type": "markdown",
      "metadata": {
        "id": "i7nxyIUNJH5P"
      },
      "source": [
        "Another example of converting string to float"
      ]
    },
    {
      "cell_type": "code",
      "execution_count": null,
      "metadata": {
        "id": "NLt_r2S5JH5P",
        "outputId": "f480aab4-35e2-4276-bfe8-b8ae2ceb05a2"
      },
      "outputs": [
        {
          "name": "stdout",
          "output_type": "stream",
          "text": [
            "<class 'str'>\n"
          ]
        }
      ],
      "source": [
        "grams = \"35.0\"\n",
        "print(type(grams))"
      ]
    },
    {
      "cell_type": "code",
      "execution_count": null,
      "metadata": {
        "id": "KMRxqjLwJH5P",
        "outputId": "5c9bdb41-4045-4361-e42c-2f6f52a22ad2"
      },
      "outputs": [
        {
          "name": "stdout",
          "output_type": "stream",
          "text": [
            "<class 'float'>\n"
          ]
        }
      ],
      "source": [
        "grams = float(grams)\n",
        "print(type(grams))"
      ]
    },
    {
      "cell_type": "markdown",
      "metadata": {
        "id": "czNCgqrdJH5P"
      },
      "source": [
        "Checking your variable types is really important to assure that you are retrieving the results you want when programming."
      ]
    },
    {
      "cell_type": "markdown",
      "metadata": {
        "id": "O318oHhPJH5Q"
      },
      "source": [
        "## String Methods"
      ]
    },
    {
      "cell_type": "markdown",
      "metadata": {
        "id": "9GNiZcwqJH5Q"
      },
      "source": [
        "Methods are like some of the functions we have already seen:"
      ]
    },
    {
      "cell_type": "code",
      "execution_count": null,
      "metadata": {
        "id": "HfNm6p13JH5Q",
        "outputId": "232ae8b4-b53c-4e34-c997-66d9580dfa00"
      },
      "outputs": [
        {
          "name": "stdout",
          "output_type": "stream",
          "text": [
            "Hello world\n"
          ]
        }
      ],
      "source": [
        "len(\"this\")"
      ]
    },
    {
      "cell_type": "code",
      "execution_count": null,
      "metadata": {
        "id": "-3_vSP0lJH5Q",
        "outputId": "cc076dba-b461-46e7-c3dc-781bea1e4bbd"
      },
      "outputs": [
        {
          "data": {
            "text/plain": [
              "int"
            ]
          },
          "execution_count": 39,
          "metadata": {},
          "output_type": "execute_result"
        }
      ],
      "source": [
        "type(12)"
      ]
    },
    {
      "cell_type": "code",
      "execution_count": null,
      "metadata": {
        "id": "P2Cocvg5JH5Q",
        "outputId": "c52db4d5-aa79-4c7c-e448-cd2ffffa4c5e"
      },
      "outputs": [
        {
          "name": "stdout",
          "output_type": "stream",
          "text": [
            "Hello world\n"
          ]
        }
      ],
      "source": [
        "print(\"Hello world\")"
      ]
    },
    {
      "cell_type": "markdown",
      "metadata": {
        "id": "1NFx0IxJJH5Q"
      },
      "source": [
        "These three above are functions - notice they use parentheses, and accept one or more arguments"
      ]
    },
    {
      "cell_type": "markdown",
      "metadata": {
        "id": "BuXDBQl8JH5Q"
      },
      "source": [
        "A method in Python behaves similarly to a function.\n",
        "\n",
        "Methods actually are functions that are called using dot notation. For example, `lower()` is a string method that can be used like this, on a string called \"school\": `school.lower()`."
      ]
    },
    {
      "cell_type": "code",
      "execution_count": null,
      "metadata": {
        "id": "hNcNt5QQJH5Q",
        "outputId": "cf25945d-84f5-4275-ad6f-c2a8afec361c"
      },
      "outputs": [
        {
          "name": "stdout",
          "output_type": "stream",
          "text": [
            "national university\n"
          ]
        }
      ],
      "source": [
        "school = \"National University\"\n",
        "print(school.lower())"
      ]
    },
    {
      "cell_type": "code",
      "execution_count": null,
      "metadata": {
        "id": "zI3Va12PJH5Q",
        "outputId": "97b0df84-ed6a-4697-f502-f09a4274f151"
      },
      "outputs": [
        {
          "data": {
            "text/plain": [
              "2"
            ]
          },
          "execution_count": 43,
          "metadata": {},
          "output_type": "execute_result"
        }
      ],
      "source": [
        "# The count method checks the number of occurences in a string\n",
        "school.count('a')"
      ]
    },
    {
      "cell_type": "code",
      "execution_count": null,
      "metadata": {
        "id": "yhENaQmaJH5Q",
        "outputId": "ee602fd1-e2c9-443f-c01d-131ac0a18164"
      },
      "outputs": [
        {
          "data": {
            "text/plain": [
              "0"
            ]
          },
          "execution_count": 45,
          "metadata": {},
          "output_type": "execute_result"
        }
      ],
      "source": [
        "# The find method checks if a character exists in a string, if it exists, it returns the position of the character.\n",
        "school.find('N')"
      ]
    },
    {
      "cell_type": "markdown",
      "metadata": {
        "id": "R5ig80PbJH5R"
      },
      "source": [
        "\n",
        "Methods are specific to the data type for a particular variable. So there are some built-in methods that are available for all strings, different methods that are available for all integers, etc."
      ]
    },
    {
      "cell_type": "markdown",
      "metadata": {
        "id": "VcneoKJCJH5R"
      },
      "source": [
        "<img src= \"https://video.udacity-data.com/topher/2018/February/5a72cb8c_screen-shot-2018-02-01-at-12.10.40-am/screen-shot-2018-02-01-at-12.10.40-am.png\">"
      ]
    },
    {
      "cell_type": "markdown",
      "metadata": {
        "id": "Jtb-dW9LJH5R"
      },
      "source": [
        "No professional has all the methods memorized, which is why understanding how to use documentation and find answers is so important. Gaining a strong grasp of the foundations of programming will allow you to use those foundations to use documentation to build so much more than someone who tries to memorize all the built-in methods in Python."
      ]
    }
  ],
  "metadata": {
    "celltoolbar": "Slideshow",
    "colab": {
      "provenance": [],
      "include_colab_link": true
    },
    "kernelspec": {
      "display_name": "Python 3",
      "language": "python",
      "name": "python3"
    },
    "language_info": {
      "codemirror_mode": {
        "name": "ipython",
        "version": 3
      },
      "file_extension": ".py",
      "mimetype": "text/x-python",
      "name": "python",
      "nbconvert_exporter": "python",
      "pygments_lexer": "ipython3",
      "version": "3.11.5"
    }
  },
  "nbformat": 4,
  "nbformat_minor": 0
}