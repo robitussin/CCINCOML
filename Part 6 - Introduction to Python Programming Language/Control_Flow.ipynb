{
  "cells": [
    {
      "cell_type": "markdown",
      "metadata": {
        "id": "view-in-github",
        "colab_type": "text"
      },
      "source": [
        "<a href=\"https://colab.research.google.com/github/robitussin/CCINCOML/blob/main/Part%206%20-%20Introduction%20to%20Python%20Programming%20Language/Control_Flow.ipynb\" target=\"_parent\"><img src=\"https://colab.research.google.com/assets/colab-badge.svg\" alt=\"Open In Colab\"/></a>"
      ]
    },
    {
      "cell_type": "markdown",
      "metadata": {
        "id": "qMcqAHbTBq22"
      },
      "source": [
        "# Introduction to Python Programming Language: Control Flow"
      ]
    },
    {
      "cell_type": "markdown",
      "metadata": {
        "id": "cglJ7FBQJH4-"
      },
      "source": [
        "## What is Control Flow?\n",
        "Welcome to this lesson on Control Flow! Control flow is the sequence in which your code is run. Here, we'll learn about several tools in Python we can use to affect our code's control flow:\n",
        "\n",
        "* Conditional Statements\n",
        "* Boolean Expressions\n",
        "* For and While Loops\n"
      ]
    },
    {
      "cell_type": "markdown",
      "metadata": {
        "id": "zVflXaAwUoJr"
      },
      "source": [
        "## Conditional Statements"
      ]
    },
    {
      "cell_type": "markdown",
      "metadata": {
        "id": "hi4PBbosUoJs"
      },
      "source": [
        "### If Statement\n",
        "An if statement is a conditional statement that runs or skips code based on whether a condition is true or false"
      ]
    },
    {
      "cell_type": "code",
      "execution_count": 87,
      "metadata": {
        "id": "8QS5-bRRUoJs"
      },
      "outputs": [],
      "source": [
        "# Current load in your phone\n",
        "load_balance = 10\n",
        "\n",
        "# Current amount in your savings account\n",
        "savings_balance = 50\n",
        "\n",
        "if load_balance < 10:\n",
        "    load_balance += 10\n",
        "    savings_balance -= 10"
      ]
    },
    {
      "cell_type": "markdown",
      "metadata": {
        "id": "nqyxdhaxUoJs"
      },
      "source": [
        "An if statement starts with the if keyword, followed by the condition to be checked, in this case load_balance < 5, and then a colon. The condition is specified in a boolean expression that evaluates to either True or False\n",
        "\n",
        "After this line is an indented block of code to be executed if that condition is true. Here, the lines that increment load_balance and decrement savings_balance only execute if it is true that load_balance is less than 5. If not, the code in this if block is simply skipped."
      ]
    },
    {
      "cell_type": "code",
      "execution_count": 88,
      "metadata": {
        "id": "cr4-fAOyUoJs",
        "outputId": "4917b46a-7d4c-47fc-b50c-efb99a2b3821",
        "colab": {
          "base_uri": "https://localhost:8080/"
        }
      },
      "outputs": [
        {
          "output_type": "stream",
          "name": "stdout",
          "text": [
            "Your current load balance is: 10\n",
            "Your savings account balance is: 50\n"
          ]
        }
      ],
      "source": [
        "print(\"Your current load balance is: \" + str(load_balance))\n",
        "print(\"Your savings account balance is: \" + str(savings_balance))"
      ]
    },
    {
      "cell_type": "markdown",
      "metadata": {
        "id": "hTbTOcSxUoJt"
      },
      "source": [
        "### If, Else\n",
        "The else clause, which must come at the end of an if statement if used. This clause doesn't require a condition. The code in an else block is run if all conditions above that in the if statement evaluate to False."
      ]
    },
    {
      "cell_type": "code",
      "execution_count": 89,
      "metadata": {
        "id": "87y2LmyFUoJt",
        "outputId": "e82dacf1-5a9d-422a-9ddb-6651c58de2f1",
        "colab": {
          "base_uri": "https://localhost:8080/"
        }
      },
      "outputs": [
        {
          "output_type": "stream",
          "name": "stdout",
          "text": [
            "I am too young!\n"
          ]
        }
      ],
      "source": [
        "age = 15\n",
        "\n",
        "if age >= 18:\n",
        "    print('I am allowed to drink alcohol!')\n",
        "else:\n",
        "    print('I am too young!')"
      ]
    },
    {
      "cell_type": "markdown",
      "metadata": {
        "id": "rvVdQsPFUoJu"
      },
      "source": [
        "### If, Elif, Else\n",
        "In addition to the if clause, there are two other optional clauses often used with an if statement. For example:"
      ]
    },
    {
      "cell_type": "code",
      "execution_count": 90,
      "metadata": {
        "id": "9NNr2NpMUoJu",
        "outputId": "d36839fb-7367-4b6b-de4c-071840898590",
        "colab": {
          "base_uri": "https://localhost:8080/"
        }
      },
      "outputs": [
        {
          "output_type": "stream",
          "name": "stdout",
          "text": [
            "harvest the garden!\n"
          ]
        }
      ],
      "source": [
        "season = \"fall\"\n",
        "\n",
        "if season == 'spring':\n",
        "    print('plant the garden!')\n",
        "elif season == 'summer':\n",
        "    print('water the garden!')\n",
        "elif season == 'fall':\n",
        "    print('harvest the garden!')\n",
        "elif season == 'winter':\n",
        "    print('stay indoors!')\n",
        "else:\n",
        "    print('unrecognized season')"
      ]
    },
    {
      "cell_type": "markdown",
      "metadata": {
        "id": "VDsY3vVlUoJu"
      },
      "source": [
        "An elif clause is used to check for an additional condition if the conditions in the previous clauses in the if statement evaluate to False. As you can see in the example, you can have multiple elif blocks to handle different situations."
      ]
    },
    {
      "cell_type": "markdown",
      "metadata": {
        "id": "8C7ym4CKUoJu"
      },
      "source": [
        "### Indentation\n",
        "Some other languages use braces to show where blocks of code begin and end.\n",
        "\n",
        "In Python we use indentation to enclose blocks of code. For example, if statements use indentation to tell Python what code is inside and outside of different clauses.\n",
        "\n",
        "In Python, indents conventionally come in multiples of four spaces. Be strict about following this convention, because changing the indentation can completely change the meaning of the code.\n",
        "\n",
        "If you are working on a team of Python programmers, it's important that everyone follows the same indentation convention!"
      ]
    },
    {
      "cell_type": "markdown",
      "metadata": {
        "id": "fha7Nbc-UoJv"
      },
      "source": [
        "## Boolean Expressions\n",
        "\n",
        "If statements sometimes use more complicated boolean expressions for their conditions. They may contain multiple comparisons operators, logical operators, and even calculations."
      ]
    },
    {
      "cell_type": "code",
      "execution_count": 91,
      "metadata": {
        "id": "pS4AxNEDUoJv",
        "outputId": "afa5faa4-01a4-4cab-8e12-7ab7aebd764e",
        "colab": {
          "base_uri": "https://localhost:8080/"
        }
      },
      "outputs": [
        {
          "output_type": "stream",
          "name": "stdout",
          "text": [
            "Is there a rainbow?\n"
          ]
        }
      ],
      "source": [
        "is_raining = True\n",
        "is_sunny = True\n",
        "\n",
        "if is_raining and is_sunny:\n",
        "    print(\"Is there a rainbow?\")"
      ]
    },
    {
      "cell_type": "markdown",
      "metadata": {
        "id": "n6cFlq6AUoJv"
      },
      "source": [
        "For really complicated conditions you might need to combine some ands, ors and nots together. Use parentheses if you need to make the combinations clear."
      ]
    },
    {
      "cell_type": "code",
      "execution_count": 92,
      "metadata": {
        "id": "r8kRWBZVUoJv",
        "outputId": "d0c057d6-a3dc-4a8d-c767-7f8903d1fbbe",
        "colab": {
          "base_uri": "https://localhost:8080/"
        }
      },
      "outputs": [
        {
          "output_type": "stream",
          "name": "stdout",
          "text": [
            "Programming is in my blood\n"
          ]
        }
      ],
      "source": [
        "i_hate_logic = False\n",
        "degree = \"IT\"\n",
        "\n",
        "if (not i_hate_logic) and (degree == \"CS\" or degree == \"IT\"):\n",
        "    print(\"Programming is in my blood\")"
      ]
    },
    {
      "cell_type": "markdown",
      "metadata": {
        "id": "f0-fJHVgUoJw"
      },
      "source": [
        "### Good and Bad Examples\n",
        "1. Don't use True or False as conditions"
      ]
    },
    {
      "cell_type": "markdown",
      "metadata": {
        "id": "oB05nouBUoJw"
      },
      "source": [
        "While \"True\" is a valid boolean expression, it's not useful as a condition since it always evaluates to True, so the indented code will always get run. Similarly, if False is not a condition you should use either - the statement following this if statement would never be executed."
      ]
    },
    {
      "cell_type": "code",
      "execution_count": 93,
      "metadata": {
        "id": "uOwydpHNUoJw",
        "outputId": "5680b1db-402d-4bef-8dba-7d60eb619c7e",
        "colab": {
          "base_uri": "https://localhost:8080/"
        }
      },
      "outputs": [
        {
          "output_type": "stream",
          "name": "stdout",
          "text": [
            "This indented code will always get run.\n"
          ]
        }
      ],
      "source": [
        "## Bad example\n",
        "if True:\n",
        "    print(\"This indented code will always get run.\")"
      ]
    },
    {
      "cell_type": "markdown",
      "metadata": {
        "id": "dMrlI6RhUoJw"
      },
      "source": [
        "Similarly, it's useless to use any condition that you know will always evaluate to True, like this example above. A boolean variable can only be True or False, so either is_cold or not is_cold is always True, and the indented code will always be run."
      ]
    },
    {
      "cell_type": "code",
      "execution_count": 94,
      "metadata": {
        "id": "2JSZLqAkUoJw",
        "outputId": "ae1a1f1d-fa7e-4026-809d-dbf482aadc8b",
        "colab": {
          "base_uri": "https://localhost:8080/"
        }
      },
      "outputs": [
        {
          "output_type": "stream",
          "name": "stdout",
          "text": [
            "This indented code will always get run.\n"
          ]
        }
      ],
      "source": [
        "## Another bad example\n",
        "\n",
        "is_cold = True\n",
        "\n",
        "if is_cold or not is_cold:\n",
        "    print(\"This indented code will always get run.\")"
      ]
    },
    {
      "cell_type": "markdown",
      "metadata": {
        "id": "WnCXCWDbUoJw"
      },
      "source": [
        "2. Be careful writing expressions that use logical operators\n",
        "Logical operators `and`, `or` and `not` have specific meanings that aren't quite the same as their meanings in plain English. Make sure your boolean expressions are being evaluated the way you expect them to."
      ]
    },
    {
      "cell_type": "code",
      "execution_count": 95,
      "metadata": {
        "id": "IeXCQbbmUoJx",
        "outputId": "9b9f36c0-0963-4989-fc30-15007413516d",
        "colab": {
          "base_uri": "https://localhost:8080/"
        }
      },
      "outputs": [
        {
          "output_type": "stream",
          "name": "stdout",
          "text": [
            "Wear boots!\n"
          ]
        }
      ],
      "source": [
        "## Bad example\n",
        "\n",
        "weather = \"snow\"\n",
        "\n",
        "if weather == \"snow\" or \"rain\":\n",
        "    print(\"Wear boots!\")"
      ]
    },
    {
      "cell_type": "markdown",
      "metadata": {
        "id": "Yl40pmY7UoJx"
      },
      "source": [
        "This code is valid in Python, but it is not a boolean expression, although it reads like one. The reason is that the expression to the right of the or operator, \"rain\", is not a boolean expression - it's a string! Later we'll discuss what happens when you use non-boolean-type objects in place of booleans."
      ]
    },
    {
      "cell_type": "markdown",
      "metadata": {
        "id": "TCLMmFH9UoJx"
      },
      "source": [
        "3. Don't compare a boolean variable with `== True` or `== False`\n",
        "This comparison isn’t necessary, since the boolean variable itself is a boolean expression."
      ]
    },
    {
      "cell_type": "code",
      "execution_count": 96,
      "metadata": {
        "id": "wAKPzQckUoJx",
        "outputId": "2232a91e-2588-4d7e-e8b8-d6fe4eca3112",
        "colab": {
          "base_uri": "https://localhost:8080/"
        }
      },
      "outputs": [
        {
          "output_type": "stream",
          "name": "stdout",
          "text": [
            "The weather is cold!\n"
          ]
        }
      ],
      "source": [
        "## Bad example\n",
        "if is_cold == True:\n",
        "    print(\"The weather is cold!\")"
      ]
    },
    {
      "cell_type": "code",
      "execution_count": 97,
      "metadata": {
        "id": "Y32RwyxlUoJy",
        "outputId": "f8d3745f-2b2a-4ebd-e35b-5ed5f7a77f53",
        "colab": {
          "base_uri": "https://localhost:8080/"
        }
      },
      "outputs": [
        {
          "output_type": "stream",
          "name": "stdout",
          "text": [
            "The weather is cold!\n"
          ]
        }
      ],
      "source": [
        "## Good example\n",
        "if is_cold:\n",
        "    print(\"The weather is cold!\")"
      ]
    },
    {
      "cell_type": "markdown",
      "metadata": {
        "id": "n82KJ669UoJy"
      },
      "source": [
        "### Truth Value Testing\n",
        "If we use a non-boolean object as a condition in an if statement in place of the boolean expression, Python will check for its truth value and use that to decide whether or not to run the indented code. By default, the truth value of an object in Python is considered True unless specified as False in the documentation."
      ]
    },
    {
      "cell_type": "code",
      "execution_count": 98,
      "metadata": {
        "id": "tRMKs-iJUoJy",
        "outputId": "db5e5e40-9c63-4f1d-eb23-8a41ba6fa8a1",
        "colab": {
          "base_uri": "https://localhost:8080/"
        }
      },
      "outputs": [
        {
          "output_type": "stream",
          "name": "stdout",
          "text": [
            "You have 3 errors to fix!\n"
          ]
        }
      ],
      "source": [
        "errors = 3\n",
        "if errors:\n",
        "    print(\"You have {} errors to fix!\".format(errors))\n",
        "else:\n",
        "    print(\"No errors to fix!\")"
      ]
    },
    {
      "cell_type": "markdown",
      "metadata": {
        "id": "-WiO8LXGUoJy"
      },
      "source": [
        "In this code, errors has the truth value True because it's a non-zero number, so the error message is printed. This is a nice, succinct way of writing an if statement."
      ]
    },
    {
      "cell_type": "markdown",
      "source": [
        "## For Loops\n",
        "\n",
        "Python has two kinds of loops - for loops and while loops. A for loop is used to \"iterate\", or do something repeatedly, over an iterable.\n",
        "\n",
        "An iterable is an object that can return one of its elements at a time. This can include sequence types, such as strings, lists, and tuples, as well as non-sequence types, such as dictionaries and files."
      ],
      "metadata": {
        "id": "E-CPa_tR3wfP"
      }
    },
    {
      "cell_type": "markdown",
      "source": [
        "Let's break down the components of a for loop, using this example with the list cities:"
      ],
      "metadata": {
        "id": "hp25OCdh3_O6"
      }
    },
    {
      "cell_type": "code",
      "source": [
        "cities = ['new york city', 'mountain view', 'chicago', 'los angeles']\n",
        "\n",
        "for city in cities:\n",
        "    print(city)\n",
        "print(\"Done!\")"
      ],
      "metadata": {
        "id": "RAfdzr2y34e3",
        "outputId": "bf284ee3-a99a-42f7-8804-6f8c042e5023",
        "colab": {
          "base_uri": "https://localhost:8080/"
        }
      },
      "execution_count": 99,
      "outputs": [
        {
          "output_type": "stream",
          "name": "stdout",
          "text": [
            "new york city\n",
            "mountain view\n",
            "chicago\n",
            "los angeles\n",
            "Done!\n"
          ]
        }
      ]
    },
    {
      "cell_type": "markdown",
      "source": [
        "### Components of a for Loop\n",
        "1. The first line of the loop starts with the for keyword, which signals that this is a for loop\n",
        "2. Following that is city in cities, indicating city is the iteration variable, and cities is the iterable being looped over. In the first iteration of the loop, city gets the value of the first element in cities, which is “new york city”.\n",
        "3.The for loop heading line always ends with a colon :\n",
        "4. Following the for loop heading is an indented block of code, the body of the loop, to be executed in each iteration of this loop. There is only one line in the body of this loop - print(city).\n",
        "5. After the body of the loop has executed, we don't move on to the next line yet; we go back to the for heading line, where the iteration variable takes the value of the next element of the iterable. In the second iteration of the loop above, city takes the value of the next element in cities, which is \"mountain view\".\n",
        "6. This process repeats until the loop has iterated through all the elements of the iterable. Then, we move on to the line that follows the body of the loop - in this case, print(\"Done!\"). We can tell what the next line after the body of the loop is because it is unindented. Here is another reason why paying attention to your indentation is very important in Python!"
      ],
      "metadata": {
        "id": "z6u0xh4k4FG7"
      }
    },
    {
      "cell_type": "markdown",
      "source": [
        "### Using the range() Function with for Loops\n",
        "`range()` is a built-in function used to create an iterable sequence of numbers. You will frequently use range() with a for loop to repeat an action a certain number of times. Any variable can be used to iterate through the numbers, but Python programmers conventionally use i, as in this example:"
      ],
      "metadata": {
        "id": "pzanzlkg4nDF"
      }
    },
    {
      "cell_type": "code",
      "source": [
        "for i in range(3):\n",
        "    print(\"Hello!\")"
      ],
      "metadata": {
        "id": "MVw8WbEL4pLI",
        "outputId": "e652d55c-4afb-4c84-a7d7-6b4ddcef71cb",
        "colab": {
          "base_uri": "https://localhost:8080/"
        }
      },
      "execution_count": 100,
      "outputs": [
        {
          "output_type": "stream",
          "name": "stdout",
          "text": [
            "Hello!\n",
            "Hello!\n",
            "Hello!\n"
          ]
        }
      ]
    },
    {
      "cell_type": "markdown",
      "source": [
        "### Creating and Modifying Lists\n",
        "In addition to extracting information from lists, as we did in the first example above, you can also create and modify lists with for loops. You can create a list by appending to a new list at each iteration of the for loop like this:"
      ],
      "metadata": {
        "id": "LqNLq4K347Ra"
      }
    },
    {
      "cell_type": "code",
      "source": [
        "## Creating a new list\n",
        "cities = ['new york city', 'mountain view', 'chicago', 'los angeles']\n",
        "capitalized_cities = []\n",
        "\n",
        "for city in cities:\n",
        "    capitalized_cities.append(city.title())"
      ],
      "metadata": {
        "id": "NxV5lOPq48ES"
      },
      "execution_count": 101,
      "outputs": []
    },
    {
      "cell_type": "markdown",
      "source": [
        "Modifying a list is a bit more involved, and requires the use of the range() function.\n",
        "\n",
        "We can use the range() function to generate the indices for each value in the cities list. This lets us access the elements of the list with cities[index] so that we can modify the values in the cities list in place."
      ],
      "metadata": {
        "id": "5-injLI95DSY"
      }
    },
    {
      "cell_type": "code",
      "source": [
        "cities = ['new york city', 'mountain view', 'chicago', 'los angeles']\n",
        "\n",
        "for index in range(len(cities)):\n",
        "    cities[index] = cities[index].title()"
      ],
      "metadata": {
        "id": "UChjwXdf5EaG"
      },
      "execution_count": 102,
      "outputs": []
    },
    {
      "cell_type": "markdown",
      "source": [
        "## While Loops\n",
        "For loops are an example of \"definite iteration\" meaning that the loop's body is run a predefined number of times. This differs from \"indefinite iteration\" which is when a loop repeats an unknown number of times and ends when some condition is met, which is what happens in a while loop. Here's an example of a while loop."
      ],
      "metadata": {
        "id": "2N5b1teo5WO7"
      }
    },
    {
      "cell_type": "code",
      "source": [
        "card_deck = [4, 11, 8, 5, 13, 2, 8, 10]\n",
        "hand = []\n",
        "\n",
        "## adds the last element of the card_deck list to the hand list\n",
        "## until the values in hand add up to 17 or more\n",
        "while sum(hand)  < 17:\n",
        "    hand.append(card_deck.pop())"
      ],
      "metadata": {
        "id": "4X9PJ5Jt5Y4x"
      },
      "execution_count": 103,
      "outputs": []
    },
    {
      "cell_type": "markdown",
      "source": [
        "### Components of a While Loop\n",
        "1. The first line starts with the while keyword, indicating this is a while loop.\n",
        "2. Following that is a condition to be checked. In this example, that's sum(hand) <= 17.\n",
        "3. The while loop heading always ends with a colon :.\n",
        "4. Indented after this heading is the body of the while loop. If the condition for the while loop is true, the code lines in the loop's body will be executed.\n",
        "5. We then go back to the while heading line, and the condition is evaluated again. This process of checking the condition and then executing the loop repeats until the condition becomes false.\n",
        "6. When the condition becomes false, we move on to the line following the body of the loop, which will be unindented.\n",
        "\n",
        "The indented body of the loop should modify at least one variable in the test condition. If the value of the test condition never changes, the result is an infinite loop!"
      ],
      "metadata": {
        "id": "gq6_q4NN5a8U"
      }
    },
    {
      "cell_type": "markdown",
      "source": [
        "## Break, Continue\n",
        "Sometimes we need more control over when a loop should end, or skip an iteration. In these cases, we use the break and continue keywords, which can be used in both for and while loops.\n",
        "\n",
        "`break` terminates a loop\n",
        "\n"
      ],
      "metadata": {
        "id": "0o-Nofu4LxWs"
      }
    },
    {
      "cell_type": "code",
      "source": [
        "for i in range(5):\n",
        "    if i == 3:\n",
        "        break\n",
        "    print(i)"
      ],
      "metadata": {
        "id": "YRRV5G2KL43R",
        "outputId": "2638348b-3b98-41ac-a6fd-8a149982821c",
        "colab": {
          "base_uri": "https://localhost:8080/"
        }
      },
      "execution_count": 104,
      "outputs": [
        {
          "output_type": "stream",
          "name": "stdout",
          "text": [
            "0\n",
            "1\n",
            "2\n"
          ]
        }
      ]
    },
    {
      "cell_type": "markdown",
      "source": [
        "`continue` skips one iteration of a loop"
      ],
      "metadata": {
        "id": "eSn8xQ4VMd1L"
      }
    },
    {
      "cell_type": "code",
      "source": [
        "for i in range(5):\n",
        "    if i == 3:\n",
        "        continue\n",
        "    print(i)"
      ],
      "metadata": {
        "id": "vouoz7i_MSq9",
        "outputId": "a96a4bcf-49c5-4c70-8090-ea87c722fd3e",
        "colab": {
          "base_uri": "https://localhost:8080/"
        }
      },
      "execution_count": 105,
      "outputs": [
        {
          "output_type": "stream",
          "name": "stdout",
          "text": [
            "0\n",
            "1\n",
            "2\n",
            "4\n"
          ]
        }
      ]
    },
    {
      "cell_type": "markdown",
      "source": [
        "## List Comprehensions\n",
        "In Python, you can create lists really quickly and concisely with list comprehensions. This example from earlier:"
      ],
      "metadata": {
        "id": "rBC90v5FNN9q"
      }
    },
    {
      "cell_type": "code",
      "source": [
        "## Creating a new list\n",
        "cities = ['new york city', 'mountain view', 'chicago', 'los angeles']\n",
        "capitalized_cities = []\n",
        "\n",
        "for city in cities:\n",
        "    capitalized_cities.append(city.title())"
      ],
      "metadata": {
        "id": "tB3SQnZGNQXC"
      },
      "execution_count": 106,
      "outputs": []
    },
    {
      "cell_type": "code",
      "source": [
        "capitalized_cities"
      ],
      "metadata": {
        "id": "C81XvpMmNlUi",
        "outputId": "a72fe97c-d874-4567-b840-a4017a7d33c6",
        "colab": {
          "base_uri": "https://localhost:8080/"
        }
      },
      "execution_count": 107,
      "outputs": [
        {
          "output_type": "execute_result",
          "data": {
            "text/plain": [
              "['New York City', 'Mountain View', 'Chicago', 'Los Angeles']"
            ]
          },
          "metadata": {},
          "execution_count": 107
        }
      ]
    },
    {
      "cell_type": "markdown",
      "source": [
        "can be reduced to:"
      ],
      "metadata": {
        "id": "VamBcTGXNhSP"
      }
    },
    {
      "cell_type": "code",
      "source": [
        "capitalized_cities = []\n",
        "capitalized_cities = [city.title() for city in cities]\n",
        "capitalized_cities"
      ],
      "metadata": {
        "id": "qKlyt9prNg6L",
        "outputId": "50819c51-83b3-4789-bdce-7ccf2e202d01",
        "colab": {
          "base_uri": "https://localhost:8080/"
        }
      },
      "execution_count": 108,
      "outputs": [
        {
          "output_type": "execute_result",
          "data": {
            "text/plain": [
              "['New York City', 'Mountain View', 'Chicago', 'Los Angeles']"
            ]
          },
          "metadata": {},
          "execution_count": 108
        }
      ]
    }
  ],
  "metadata": {
    "celltoolbar": "Slideshow",
    "colab": {
      "provenance": [],
      "include_colab_link": true
    },
    "kernelspec": {
      "display_name": "Python 3",
      "language": "python",
      "name": "python3"
    },
    "language_info": {
      "codemirror_mode": {
        "name": "ipython",
        "version": 3
      },
      "file_extension": ".py",
      "mimetype": "text/x-python",
      "name": "python",
      "nbconvert_exporter": "python",
      "pygments_lexer": "ipython3",
      "version": "3.11.5"
    }
  },
  "nbformat": 4,
  "nbformat_minor": 0
}