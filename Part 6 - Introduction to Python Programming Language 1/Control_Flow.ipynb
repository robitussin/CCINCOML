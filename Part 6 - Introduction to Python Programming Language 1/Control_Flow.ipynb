{
  "cells": [
    {
      "cell_type": "markdown",
      "metadata": {
        "id": "view-in-github",
        "colab_type": "text"
      },
      "source": [
        "<a href=\"https://colab.research.google.com/github/robitussin/CCINCOML/blob/main/Part%206%20-%20Introduction%20to%20Python%20Programming%20Language%201/Control_Flow.ipynb\" target=\"_parent\"><img src=\"https://colab.research.google.com/assets/colab-badge.svg\" alt=\"Open In Colab\"/></a>"
      ]
    },
    {
      "cell_type": "markdown",
      "metadata": {
        "id": "qMcqAHbTBq22"
      },
      "source": [
        "# Introduction to Python Programming Language: Control Flow"
      ]
    },
    {
      "cell_type": "markdown",
      "metadata": {
        "id": "cglJ7FBQJH4-"
      },
      "source": [
        "## What is Control Flow?\n",
        "Welcome to this lesson on Control Flow! Control flow is the sequence in which your code is run. Here, we'll learn about several tools in Python we can use to affect our code's control flow:\n",
        "\n",
        "* Conditional Statements\n",
        "* Boolean Expressions\n",
        "* For and While Loops\n",
        "* Break and Continue\n",
        "* Zip and Enumerate\n",
        "* List Comprehensions"
      ]
    },
    {
      "cell_type": "markdown",
      "metadata": {
        "id": "zVflXaAwUoJr"
      },
      "source": [
        "## Conditional Statements"
      ]
    },
    {
      "cell_type": "markdown",
      "metadata": {
        "id": "hi4PBbosUoJs"
      },
      "source": [
        "### If Statement\n",
        "An if statement is a conditional statement that runs or skips code based on whether a condition is true or false"
      ]
    },
    {
      "cell_type": "code",
      "execution_count": null,
      "metadata": {
        "id": "8QS5-bRRUoJs"
      },
      "outputs": [],
      "source": [
        "# Current load in your phone\n",
        "load_balance = 10\n",
        "\n",
        "# Current amount in your savings account\n",
        "savings_balance = 50\n",
        "\n",
        "if load_balance < 10:\n",
        "    load_balance += 10\n",
        "    savings_balance -= 10"
      ]
    },
    {
      "cell_type": "markdown",
      "metadata": {
        "id": "nqyxdhaxUoJs"
      },
      "source": [
        "An if statement starts with the if keyword, followed by the condition to be checked, in this case load_balance < 5, and then a colon. The condition is specified in a boolean expression that evaluates to either True or False\n",
        "\n",
        "After this line is an indented block of code to be executed if that condition is true. Here, the lines that increment load_balance and decrement savings_balance only execute if it is true that load_balance is less than 5. If not, the code in this if block is simply skipped."
      ]
    },
    {
      "cell_type": "code",
      "execution_count": null,
      "metadata": {
        "id": "cr4-fAOyUoJs",
        "outputId": "8d4855bf-4c94-40e9-b8e7-29540f1f8f93"
      },
      "outputs": [
        {
          "name": "stdout",
          "output_type": "stream",
          "text": [
            "Your current load balance is: 10\n",
            "Your savings account balance is: 50\n"
          ]
        }
      ],
      "source": [
        "print(\"Your current load balance is: \" + str(load_balance))\n",
        "print(\"Your savings account balance is: \" + str(savings_balance))"
      ]
    },
    {
      "cell_type": "markdown",
      "metadata": {
        "id": "hTbTOcSxUoJt"
      },
      "source": [
        "### If, Else\n",
        "The else clause, which must come at the end of an if statement if used. This clause doesn't require a condition. The code in an else block is run if all conditions above that in the if statement evaluate to False."
      ]
    },
    {
      "cell_type": "code",
      "execution_count": null,
      "metadata": {
        "id": "87y2LmyFUoJt",
        "outputId": "14c5f3c9-4e23-4e74-939c-a0d1db6dcdd7"
      },
      "outputs": [
        {
          "name": "stdout",
          "output_type": "stream",
          "text": [
            "I am too young!\n"
          ]
        }
      ],
      "source": [
        "age = 15\n",
        "\n",
        "if age >= 18:\n",
        "    print('I am allowed to drink alcohol!')\n",
        "else:\n",
        "    print('I am too young!')"
      ]
    },
    {
      "cell_type": "markdown",
      "metadata": {
        "id": "rvVdQsPFUoJu"
      },
      "source": [
        "### If, Elif, Else\n",
        "In addition to the if clause, there are two other optional clauses often used with an if statement. For example:"
      ]
    },
    {
      "cell_type": "code",
      "execution_count": null,
      "metadata": {
        "id": "9NNr2NpMUoJu",
        "outputId": "e60fdd9b-4e1e-4111-cc89-6ac8b86a742f"
      },
      "outputs": [
        {
          "name": "stdout",
          "output_type": "stream",
          "text": [
            "harvest the garden!\n"
          ]
        }
      ],
      "source": [
        "season = \"fall\"\n",
        "\n",
        "if season == 'spring':\n",
        "    print('plant the garden!')\n",
        "elif season == 'summer':\n",
        "    print('water the garden!')\n",
        "elif season == 'fall':\n",
        "    print('harvest the garden!')\n",
        "elif season == 'winter':\n",
        "    print('stay indoors!')\n",
        "else:\n",
        "    print('unrecognized season')"
      ]
    },
    {
      "cell_type": "markdown",
      "metadata": {
        "id": "VDsY3vVlUoJu"
      },
      "source": [
        "An elif clause is used to check for an additional condition if the conditions in the previous clauses in the if statement evaluate to False. As you can see in the example, you can have multiple elif blocks to handle different situations."
      ]
    },
    {
      "cell_type": "markdown",
      "metadata": {
        "id": "8C7ym4CKUoJu"
      },
      "source": [
        "### Indentation\n",
        "Some other languages use braces to show where blocks of code begin and end.\n",
        "\n",
        "In Python we use indentation to enclose blocks of code. For example, if statements use indentation to tell Python what code is inside and outside of different clauses.\n",
        "\n",
        "In Python, indents conventionally come in multiples of four spaces. Be strict about following this convention, because changing the indentation can completely change the meaning of the code.\n",
        "\n",
        "If you are working on a team of Python programmers, it's important that everyone follows the same indentation convention!"
      ]
    },
    {
      "cell_type": "markdown",
      "metadata": {
        "id": "fha7Nbc-UoJv"
      },
      "source": [
        "## Boolean Expressions\n",
        "\n",
        "If statements sometimes use more complicated boolean expressions for their conditions. They may contain multiple comparisons operators, logical operators, and even calculations."
      ]
    },
    {
      "cell_type": "code",
      "execution_count": null,
      "metadata": {
        "id": "pS4AxNEDUoJv",
        "outputId": "1b48955f-9e51-43be-8616-9226f6572328"
      },
      "outputs": [
        {
          "name": "stdout",
          "output_type": "stream",
          "text": [
            "Is there a rainbow?\n"
          ]
        }
      ],
      "source": [
        "is_raining = True\n",
        "is_sunny = True\n",
        "\n",
        "if is_raining and is_sunny:\n",
        "    print(\"Is there a rainbow?\")"
      ]
    },
    {
      "cell_type": "markdown",
      "metadata": {
        "id": "n6cFlq6AUoJv"
      },
      "source": [
        "For really complicated conditions you might need to combine some ands, ors and nots together. Use parentheses if you need to make the combinations clear."
      ]
    },
    {
      "cell_type": "code",
      "execution_count": null,
      "metadata": {
        "id": "r8kRWBZVUoJv",
        "outputId": "2e5f52a1-49a5-4bc1-fe38-883abb42bb90"
      },
      "outputs": [
        {
          "name": "stdout",
          "output_type": "stream",
          "text": [
            "Programming is in my blood\n"
          ]
        }
      ],
      "source": [
        "i_hate_logic = False\n",
        "degree = \"IT\"\n",
        "\n",
        "if (not i_hate_logic) and (degree == \"CS\" or degree == \"IT\"):\n",
        "    print(\"Programming is in my blood\")"
      ]
    },
    {
      "cell_type": "markdown",
      "metadata": {
        "id": "f0-fJHVgUoJw"
      },
      "source": [
        "### Good and Bad Examples\n",
        "1. Don't use True or False as conditions"
      ]
    },
    {
      "cell_type": "markdown",
      "metadata": {
        "id": "oB05nouBUoJw"
      },
      "source": [
        "While \"True\" is a valid boolean expression, it's not useful as a condition since it always evaluates to True, so the indented code will always get run. Similarly, if False is not a condition you should use either - the statement following this if statement would never be executed."
      ]
    },
    {
      "cell_type": "code",
      "execution_count": null,
      "metadata": {
        "id": "uOwydpHNUoJw"
      },
      "outputs": [],
      "source": [
        "## Bad example\n",
        "if True:\n",
        "    print(\"This indented code will always get run.\")"
      ]
    },
    {
      "cell_type": "markdown",
      "metadata": {
        "id": "dMrlI6RhUoJw"
      },
      "source": [
        "Similarly, it's useless to use any condition that you know will always evaluate to True, like this example above. A boolean variable can only be True or False, so either is_cold or not is_cold is always True, and the indented code will always be run."
      ]
    },
    {
      "cell_type": "code",
      "execution_count": null,
      "metadata": {
        "id": "2JSZLqAkUoJw"
      },
      "outputs": [],
      "source": [
        "## Another bad example\n",
        "if is_cold or not is_cold:\n",
        "    print(\"This indented code will always get run.\")"
      ]
    },
    {
      "cell_type": "markdown",
      "metadata": {
        "id": "WnCXCWDbUoJw"
      },
      "source": [
        "2. Be careful writing expressions that use logical operators\n",
        "Logical operators `and`, `or` and `not` have specific meanings that aren't quite the same as their meanings in plain English. Make sure your boolean expressions are being evaluated the way you expect them to."
      ]
    },
    {
      "cell_type": "code",
      "execution_count": null,
      "metadata": {
        "id": "IeXCQbbmUoJx"
      },
      "outputs": [],
      "source": [
        "## Bad example\n",
        "if weather == \"snow\" or \"rain\":\n",
        "    print(\"Wear boots!\")"
      ]
    },
    {
      "cell_type": "markdown",
      "metadata": {
        "id": "Yl40pmY7UoJx"
      },
      "source": [
        "This code is valid in Python, but it is not a boolean expression, although it reads like one. The reason is that the expression to the right of the or operator, \"rain\", is not a boolean expression - it's a string! Later we'll discuss what happens when you use non-boolean-type objects in place of booleans."
      ]
    },
    {
      "cell_type": "markdown",
      "metadata": {
        "id": "TCLMmFH9UoJx"
      },
      "source": [
        "3. Don't compare a boolean variable with `== True` or `== False`\n",
        "This comparison isn’t necessary, since the boolean variable itself is a boolean expression."
      ]
    },
    {
      "cell_type": "code",
      "execution_count": null,
      "metadata": {
        "id": "wAKPzQckUoJx"
      },
      "outputs": [],
      "source": [
        "## Bad example\n",
        "if is_cold == True:\n",
        "    print(\"The weather is cold!\")"
      ]
    },
    {
      "cell_type": "code",
      "execution_count": null,
      "metadata": {
        "id": "Y32RwyxlUoJy"
      },
      "outputs": [],
      "source": [
        "## Good example\n",
        "if is_cold:\n",
        "    print(\"The weather is cold!\")"
      ]
    },
    {
      "cell_type": "markdown",
      "metadata": {
        "id": "n82KJ669UoJy"
      },
      "source": [
        "### Truth Value Testing\n",
        "If we use a non-boolean object as a condition in an if statement in place of the boolean expression, Python will check for its truth value and use that to decide whether or not to run the indented code. By default, the truth value of an object in Python is considered True unless specified as False in the documentation."
      ]
    },
    {
      "cell_type": "code",
      "execution_count": null,
      "metadata": {
        "id": "tRMKs-iJUoJy"
      },
      "outputs": [],
      "source": [
        "errors = 3\n",
        "if errors:\n",
        "    print(\"You have {} errors to fix!\".format(errors))\n",
        "else:\n",
        "    print(\"No errors to fix!\")"
      ]
    },
    {
      "cell_type": "markdown",
      "metadata": {
        "id": "-WiO8LXGUoJy"
      },
      "source": [
        "In this code, errors has the truth value True because it's a non-zero number, so the error message is printed. This is a nice, succinct way of writing an if statement."
      ]
    }
  ],
  "metadata": {
    "celltoolbar": "Slideshow",
    "colab": {
      "provenance": [],
      "include_colab_link": true
    },
    "kernelspec": {
      "display_name": "Python 3",
      "language": "python",
      "name": "python3"
    },
    "language_info": {
      "codemirror_mode": {
        "name": "ipython",
        "version": 3
      },
      "file_extension": ".py",
      "mimetype": "text/x-python",
      "name": "python",
      "nbconvert_exporter": "python",
      "pygments_lexer": "ipython3",
      "version": "3.11.5"
    }
  },
  "nbformat": 4,
  "nbformat_minor": 0
}